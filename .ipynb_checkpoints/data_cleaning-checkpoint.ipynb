{
 "cells": [
  {
   "cell_type": "markdown",
   "id": "destroyed-ceremony",
   "metadata": {},
   "source": [
    "# Cleaning Data"
   ]
  },
  {
   "cell_type": "code",
   "execution_count": 311,
   "id": "suited-filling",
   "metadata": {},
   "outputs": [],
   "source": [
    "import pandas as pd\n",
    "import numpy as np"
   ]
  },
  {
   "cell_type": "markdown",
   "id": "amateur-boulder",
   "metadata": {},
   "source": [
    "Load Dataset"
   ]
  },
  {
   "cell_type": "code",
   "execution_count": 312,
   "id": "celtic-basics",
   "metadata": {
    "scrolled": true
   },
   "outputs": [
    {
     "name": "stdout",
     "output_type": "stream",
     "text": [
      "       Unnamed: 0 pitch_type   game_date  release_speed  release_pos_x  \\\n",
      "0               0         KC  2018-10-14           80.6          -2.04   \n",
      "1               1         SL  2018-10-14           88.0          -2.01   \n",
      "2               2         CH  2018-10-14           86.1          -2.23   \n",
      "3               3         CH  2018-10-14           87.5          -2.14   \n",
      "4               4         KC  2018-10-14           80.5          -2.04   \n",
      "...           ...        ...         ...            ...            ...   \n",
      "21489        5407         SL  2019-03-29           89.8          -2.35   \n",
      "21490        5408         FF  2019-03-29           96.3          -2.16   \n",
      "21491        5409         SL  2019-03-29           88.5          -2.34   \n",
      "21492        5410         FT  2019-03-29           96.7          -2.34   \n",
      "21493        5411         FF  2019-03-29           96.2          -2.24   \n",
      "\n",
      "       release_pos_z   player_name  batter  pitcher     events  ... fld_score  \\\n",
      "0               5.61  Cole, Gerrit  543877   543037  field_out  ...         4   \n",
      "1               5.74  Cole, Gerrit  543877   543037        NaN  ...         4   \n",
      "2               5.45  Cole, Gerrit  598265   543037  field_out  ...         4   \n",
      "3               5.37  Cole, Gerrit  598265   543037        NaN  ...         4   \n",
      "4               5.63  Cole, Gerrit  598265   543037        NaN  ...         4   \n",
      "...              ...           ...     ...      ...        ...  ...       ...   \n",
      "21489           5.95  Cole, Gerrit  640457   543037        NaN  ...         0   \n",
      "21490           5.89  Cole, Gerrit  640457   543037        NaN  ...         0   \n",
      "21491           5.96  Cole, Gerrit  640457   543037        NaN  ...         0   \n",
      "21492           5.77  Cole, Gerrit  640457   543037        NaN  ...         0   \n",
      "21493           5.93  Cole, Gerrit  640457   543037        NaN  ...         0   \n",
      "\n",
      "       post_away_score  post_home_score  post_bat_score  post_fld_score  \\\n",
      "0                    4                5               5               4   \n",
      "1                    4                5               5               4   \n",
      "2                    4                5               5               4   \n",
      "3                    4                5               5               4   \n",
      "4                    4                5               5               4   \n",
      "...                ...              ...             ...             ...   \n",
      "21489                0                0               0               0   \n",
      "21490                0                0               0               0   \n",
      "21491                0                0               0               0   \n",
      "21492                0                0               0               0   \n",
      "21493                0                0               0               0   \n",
      "\n",
      "       if_fielding_alignment of_fielding_alignment spin_axis  \\\n",
      "0                   Standard             Strategic      27.0   \n",
      "1                   Standard             Strategic     133.0   \n",
      "2              Infield shift              Standard     220.0   \n",
      "3              Infield shift              Standard     229.0   \n",
      "4              Infield shift              Standard      33.0   \n",
      "...                      ...                   ...       ...   \n",
      "21489          Infield shift              Standard     158.0   \n",
      "21490          Infield shift              Standard     209.0   \n",
      "21491          Infield shift              Standard     174.0   \n",
      "21492          Infield shift              Standard     225.0   \n",
      "21493          Infield shift              Standard     208.0   \n",
      "\n",
      "      delta_home_win_exp delta_run_exp  \n",
      "0                 -0.010        -0.084  \n",
      "1                  0.000        -0.016  \n",
      "2                 -0.015        -0.160  \n",
      "3                  0.000        -0.034  \n",
      "4                  0.000         0.027  \n",
      "...                  ...           ...  \n",
      "21489              0.000         0.000  \n",
      "21490              0.000        -0.073  \n",
      "21491              0.000         0.054  \n",
      "21492              0.000         0.027  \n",
      "21493              0.000        -0.039  \n",
      "\n",
      "[21494 rows x 93 columns]\n"
     ]
    },
    {
     "name": "stderr",
     "output_type": "stream",
     "text": [
      "/home/logan/.local/lib/python3.8/site-packages/IPython/core/interactiveshell.py:3165: DtypeWarning: Columns (44) have mixed types.Specify dtype option on import or set low_memory=False.\n",
      "  has_raised = await self.run_ast_nodes(code_ast.body, cell_name,\n"
     ]
    }
   ],
   "source": [
    "player = 'cole'\n",
    "data = pd.read_csv('./data/' + player + '.csv')\n",
    "print(data)"
   ]
  },
  {
   "cell_type": "markdown",
   "id": "public-attention",
   "metadata": {},
   "source": [
    "Simplify the batters on base columns:"
   ]
  },
  {
   "cell_type": "code",
   "execution_count": 313,
   "id": "popular-perth",
   "metadata": {
    "scrolled": true
   },
   "outputs": [],
   "source": [
    "data['on_base'] = np.sum([\n",
    "    pd.notnull(data['on_1b']),\n",
    "    pd.notnull(data['on_2b']),\n",
    "    pd.notnull(data['on_3b'])\n",
    "], axis=0)"
   ]
  },
  {
   "cell_type": "markdown",
   "id": "armed-salem",
   "metadata": {},
   "source": [
    "In the data we have, the pitch (label) and the results of the pitch are in the same row. We would like the label to be on the same row as the previous pitch data, so we need to shift some of the columns down one row. "
   ]
  },
  {
   "cell_type": "code",
   "execution_count": 314,
   "id": "artificial-norfolk",
   "metadata": {},
   "outputs": [],
   "source": [
    "to_shift_down = [\n",
    "    'events',\n",
    "    'zone',\n",
    "    'type',\n",
    "    'bb_type',\n",
    "    'plate_x',\n",
    "    'plate_z'\n",
    "]\n",
    "\n",
    "groups = data.groupby(['game_pk', 'inning'])\n",
    "\n",
    "list_of_dfs = []\n",
    "for _, g in groups:\n",
    "    list_of_dfs.append(g)\n",
    "\n",
    "for i, df in enumerate(list_of_dfs):\n",
    "    for column in df:\n",
    "        if column in to_shift_down:\n",
    "            df[\"prev_\" + column] = df[column].shift(periods=1)\n",
    "            df.drop(df.head(1).index, inplace=True)\n",
    "    list_of_dfs[i] = df\n",
    "            \n",
    "cleaned_data = pd.concat(list_of_dfs, axis=0, sort=False)\n",
    "\n",
    "for col in to_shift_down:\n",
    "    cleaned_data.pop(col)"
   ]
  },
  {
   "cell_type": "markdown",
   "id": "waiting-georgia",
   "metadata": {},
   "source": [
    "Now, we explicitly list the columns that we want to keep:"
   ]
  },
  {
   "cell_type": "code",
   "execution_count": 315,
   "id": "smaller-edmonton",
   "metadata": {},
   "outputs": [],
   "source": [
    "keep_columns = [\n",
    "    'pitch_type',\n",
    "    'release_speed',\n",
    "    'stand',\n",
    "    'balls',\n",
    "    'strikes',\n",
    "    'plate_x',\n",
    "    'plate_y',\n",
    "    'plate_z',\n",
    "    'outs_when_up',\n",
    "    'inning',\n",
    "    'game_pk',\n",
    "    'pitch_num',\n",
    "    'bat_score',\n",
    "    'fld_score',\n",
    "    'on_base',\n",
    "    'prev_type',\n",
    "    'prev_bb_type',\n",
    "    'prev_plate_x',\n",
    "    'prev_plate_z'\n",
    "]"
   ]
  },
  {
   "cell_type": "markdown",
   "id": "marine-practice",
   "metadata": {},
   "source": [
    "Delete the unnecessary columns:"
   ]
  },
  {
   "cell_type": "code",
   "execution_count": 316,
   "id": "accessible-marriage",
   "metadata": {
    "scrolled": true
   },
   "outputs": [
    {
     "name": "stdout",
     "output_type": "stream",
     "text": [
      "Kept Columns:\n",
      "pitch_type\n",
      "release_speed\n",
      "stand\n",
      "balls\n",
      "strikes\n",
      "outs_when_up\n",
      "inning\n",
      "game_pk\n",
      "bat_score\n",
      "fld_score\n",
      "on_base\n",
      "prev_type\n",
      "prev_bb_type\n",
      "prev_plate_x\n",
      "prev_plate_z\n"
     ]
    }
   ],
   "source": [
    "for column in cleaned_data:\n",
    "    if column not in keep_columns:\n",
    "        cleaned_data.pop(column)\n",
    "\n",
    "print(\"Kept Columns:\")\n",
    "for column in cleaned_data:\n",
    "    print(column)"
   ]
  },
  {
   "cell_type": "markdown",
   "id": "sitting-lying",
   "metadata": {},
   "source": [
    "Change some of the kept data to one-hot format:"
   ]
  },
  {
   "cell_type": "code",
   "execution_count": 317,
   "id": "difficult-hygiene",
   "metadata": {},
   "outputs": [],
   "source": [
    "change_to_oh = [\n",
    "    'stand',\n",
    "    'prev_type',\n",
    "    'prev_bb_type',\n",
    "]"
   ]
  },
  {
   "cell_type": "code",
   "execution_count": 318,
   "id": "unsigned-accessory",
   "metadata": {
    "scrolled": true
   },
   "outputs": [
    {
     "name": "stdout",
     "output_type": "stream",
     "text": [
      "      pitch_type  release_speed  balls  strikes  outs_when_up  inning  \\\n",
      "16070         SL           86.0      0        2             2       1   \n",
      "16071         SI           97.6      0        1             2       1   \n",
      "16072         FF           97.2      0        0             2       1   \n",
      "16073         CH           87.5      0        2             1       1   \n",
      "16074         FF           96.4      0        1             1       1   \n",
      "...          ...            ...    ...      ...           ...     ...   \n",
      "16092         KC           83.4      0        1             1       5   \n",
      "16093         SL           89.1      0        0             1       5   \n",
      "16094         KC           82.9      1        1             0       5   \n",
      "16095         FF           96.1      1        0             0       5   \n",
      "16096         FF           97.1      0        0             0       5   \n",
      "\n",
      "       game_pk  bat_score  fld_score  on_base  prev_plate_x  prev_plate_z  \\\n",
      "16070   347712          0          0        1         -0.25          2.40   \n",
      "16071   347712          0          0        1          1.60          1.29   \n",
      "16072   347712          0          0        1         -0.61          1.76   \n",
      "16073   347712          0          0        1          0.48          2.58   \n",
      "16074   347712          0          0        1         -0.76          2.12   \n",
      "...        ...        ...        ...      ...           ...           ...   \n",
      "16092   635920          0          1        0          0.22          3.63   \n",
      "16093   635920          0          1        0         -0.29          3.01   \n",
      "16094   635920          0          1        0          0.69          2.97   \n",
      "16095   635920          0          1        0         -0.47          2.55   \n",
      "16096   635920          0          1        0         -0.89          3.02   \n",
      "\n",
      "       stand_R  prev_type_B  prev_type_S  prev_type_X  prev_bb_type_fly_ball  \\\n",
      "16070        1            0            0            1                      0   \n",
      "16071        1            1            0            0                      0   \n",
      "16072        1            0            1            0                      0   \n",
      "16073        1            0            1            0                      0   \n",
      "16074        1            0            0            1                      1   \n",
      "...        ...          ...          ...          ...                    ...   \n",
      "16092        1            1            0            0                      0   \n",
      "16093        1            0            1            0                      0   \n",
      "16094        0            0            1            0                      0   \n",
      "16095        0            0            0            1                      1   \n",
      "16096        0            0            1            0                      0   \n",
      "\n",
      "       prev_bb_type_ground_ball  prev_bb_type_line_drive  prev_bb_type_popup  \n",
      "16070                         1                        0                   0  \n",
      "16071                         0                        0                   0  \n",
      "16072                         0                        0                   0  \n",
      "16073                         0                        0                   0  \n",
      "16074                         0                        0                   0  \n",
      "...                         ...                      ...                 ...  \n",
      "16092                         0                        0                   0  \n",
      "16093                         0                        0                   0  \n",
      "16094                         0                        0                   0  \n",
      "16095                         0                        0                   0  \n",
      "16096                         0                        0                   0  \n",
      "\n",
      "[13212 rows x 20 columns]\n"
     ]
    }
   ],
   "source": [
    "for oh_column in change_to_oh:\n",
    "    drop_first = (oh_column == 'stand')\n",
    "    dummies = pd.get_dummies(cleaned_data[oh_column], drop_first=drop_first, prefix=oh_column)\n",
    "    cleaned_data = pd.concat([cleaned_data, dummies], axis=1)\n",
    "    cleaned_data.pop(oh_column)\n",
    "    \n",
    "print(cleaned_data)"
   ]
  },
  {
   "cell_type": "markdown",
   "id": "reverse-teacher",
   "metadata": {},
   "source": [
    "Save the data:"
   ]
  },
  {
   "cell_type": "code",
   "execution_count": 319,
   "id": "lucky-nevada",
   "metadata": {},
   "outputs": [],
   "source": [
    "cleaned_data.to_csv('./cleaned_data/' + player + '.csv')"
   ]
  },
  {
   "cell_type": "markdown",
   "id": "representative-phase",
   "metadata": {},
   "source": [
    "Write data to `.npy` files"
   ]
  },
  {
   "cell_type": "code",
   "execution_count": 320,
   "id": "painted-puzzle",
   "metadata": {
    "scrolled": true
   },
   "outputs": [],
   "source": [
    "groups = data.groupby(['game_pk', 'inning'])\n",
    "\n",
    "inning_dfs = []\n",
    "for _, g in groups:\n",
    "    inning_dfs.append(g)\n",
    "    \n",
    "def writeFiles(inning_df):\n",
    "    game = inning_df.iloc[0]['game_pk']\n",
    "    inning = inning_df.iloc[0]['inning']\n",
    "    labels = inning_df.pop('pitch_type').astype('category').cat.codes\n",
    "    np.save('./cleaned_data/cole/cole_' + str(game) + '_' + str(inning) + '_labels.npy', labels)\n",
    "    np.save('./cleaned_data/cole/cole_' + str(game) + '_' + str(inning) + '_data.npy', inning_df)\n",
    "\n",
    "for inning_df in inning_dfs:\n",
    "    writeFiles(inning_df)"
   ]
  },
  {
   "cell_type": "code",
   "execution_count": 321,
   "id": "awful-honduras",
   "metadata": {},
   "outputs": [
    {
     "data": {
      "text/plain": [
       "array([[16064, '2013-06-11', 97.7, ..., 0.042, -0.352, 2],\n",
       "       [16065, '2013-06-11', 99.6, ..., 0.0, 0.05, 2],\n",
       "       [16066, '2013-06-11', 97.4, ..., 0.0, -0.092, 2],\n",
       "       ...,\n",
       "       [16079, '2013-06-11', 100.1, ..., 0.022, -0.141, 0],\n",
       "       [16080, '2013-06-11', 97.2, ..., 0.0, -0.046, 0],\n",
       "       [16081, '2013-06-11', 96.8, ..., 0.0, -0.033, 0]], dtype=object)"
      ]
     },
     "execution_count": 321,
     "metadata": {},
     "output_type": "execute_result"
    }
   ],
   "source": [
    "np.load('./cleaned_data/cole/cole_347712_1_data.npy', allow_pickle=True)"
   ]
  }
 ],
 "metadata": {
  "kernelspec": {
   "display_name": "Python 3",
   "language": "python",
   "name": "python3"
  },
  "language_info": {
   "codemirror_mode": {
    "name": "ipython",
    "version": 3
   },
   "file_extension": ".py",
   "mimetype": "text/x-python",
   "name": "python",
   "nbconvert_exporter": "python",
   "pygments_lexer": "ipython3",
   "version": "3.8.5"
  }
 },
 "nbformat": 4,
 "nbformat_minor": 5
}
