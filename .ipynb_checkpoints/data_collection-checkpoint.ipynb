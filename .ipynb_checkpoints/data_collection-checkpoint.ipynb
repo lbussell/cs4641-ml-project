{
 "cells": [
  {
   "cell_type": "markdown",
   "id": "local-entrance",
   "metadata": {},
   "source": [
    "# Data Collection for Pitch Prediction"
   ]
  },
  {
   "cell_type": "code",
   "execution_count": 14,
   "id": "shaped-alcohol",
   "metadata": {},
   "outputs": [],
   "source": [
    "from pybaseball import player_search_list\n",
    "from pybaseball import statcast_pitcher"
   ]
  },
  {
   "cell_type": "markdown",
   "id": "valid-fifty",
   "metadata": {},
   "source": [
    "Enable the cache for pybaseball so that we aren't unnecessarily making the same requests over and over."
   ]
  },
  {
   "cell_type": "code",
   "execution_count": 15,
   "id": "exotic-lesson",
   "metadata": {},
   "outputs": [],
   "source": [
    "from pybaseball import cache\n",
    "cache.enable()"
   ]
  },
  {
   "cell_type": "markdown",
   "id": "magnetic-scheduling",
   "metadata": {},
   "source": [
    "## PlayerID Lookups\n",
    "\n",
    "We look at the pitching data for several individual pitchers. This might take a long time."
   ]
  },
  {
   "cell_type": "code",
   "execution_count": 25,
   "id": "strategic-launch",
   "metadata": {},
   "outputs": [
    {
     "data": {
      "text/html": [
       "<div>\n",
       "<style scoped>\n",
       "    .dataframe tbody tr th:only-of-type {\n",
       "        vertical-align: middle;\n",
       "    }\n",
       "\n",
       "    .dataframe tbody tr th {\n",
       "        vertical-align: top;\n",
       "    }\n",
       "\n",
       "    .dataframe thead th {\n",
       "        text-align: right;\n",
       "    }\n",
       "</style>\n",
       "<table border=\"1\" class=\"dataframe\">\n",
       "  <thead>\n",
       "    <tr style=\"text-align: right;\">\n",
       "      <th></th>\n",
       "      <th>name_last</th>\n",
       "      <th>name_first</th>\n",
       "      <th>key_mlbam</th>\n",
       "      <th>key_retro</th>\n",
       "      <th>key_bbref</th>\n",
       "      <th>key_fangraphs</th>\n",
       "      <th>mlb_played_first</th>\n",
       "      <th>mlb_played_last</th>\n",
       "    </tr>\n",
       "  </thead>\n",
       "  <tbody>\n",
       "    <tr>\n",
       "      <th>0</th>\n",
       "      <td>scherzer</td>\n",
       "      <td>max</td>\n",
       "      <td>453286</td>\n",
       "      <td>schem001</td>\n",
       "      <td>scherma01</td>\n",
       "      <td>3137</td>\n",
       "      <td>2008.0</td>\n",
       "      <td>2020.0</td>\n",
       "    </tr>\n",
       "    <tr>\n",
       "      <th>1</th>\n",
       "      <td>glavine</td>\n",
       "      <td>tom</td>\n",
       "      <td>114849</td>\n",
       "      <td>glavt001</td>\n",
       "      <td>glavito02</td>\n",
       "      <td>90</td>\n",
       "      <td>1987.0</td>\n",
       "      <td>2008.0</td>\n",
       "    </tr>\n",
       "    <tr>\n",
       "      <th>2</th>\n",
       "      <td>clemens</td>\n",
       "      <td>roger</td>\n",
       "      <td>112388</td>\n",
       "      <td>clemr001</td>\n",
       "      <td>clemero02</td>\n",
       "      <td>815</td>\n",
       "      <td>1984.0</td>\n",
       "      <td>2007.0</td>\n",
       "    </tr>\n",
       "    <tr>\n",
       "      <th>3</th>\n",
       "      <td>kershaw</td>\n",
       "      <td>clayton</td>\n",
       "      <td>477132</td>\n",
       "      <td>kersc001</td>\n",
       "      <td>kershcl01</td>\n",
       "      <td>2036</td>\n",
       "      <td>2008.0</td>\n",
       "      <td>2020.0</td>\n",
       "    </tr>\n",
       "    <tr>\n",
       "      <th>4</th>\n",
       "      <td>maddux</td>\n",
       "      <td>greg</td>\n",
       "      <td>118120</td>\n",
       "      <td>maddg002</td>\n",
       "      <td>maddugr01</td>\n",
       "      <td>104</td>\n",
       "      <td>1986.0</td>\n",
       "      <td>2008.0</td>\n",
       "    </tr>\n",
       "    <tr>\n",
       "      <th>5</th>\n",
       "      <td>cole</td>\n",
       "      <td>gerrit</td>\n",
       "      <td>543037</td>\n",
       "      <td>coleg001</td>\n",
       "      <td>colege01</td>\n",
       "      <td>13125</td>\n",
       "      <td>2013.0</td>\n",
       "      <td>2020.0</td>\n",
       "    </tr>\n",
       "  </tbody>\n",
       "</table>\n",
       "</div>"
      ],
      "text/plain": [
       "  name_last name_first  key_mlbam key_retro  key_bbref  key_fangraphs  \\\n",
       "0  scherzer        max     453286  schem001  scherma01           3137   \n",
       "1   glavine        tom     114849  glavt001  glavito02             90   \n",
       "2   clemens      roger     112388  clemr001  clemero02            815   \n",
       "3   kershaw    clayton     477132  kersc001  kershcl01           2036   \n",
       "4    maddux       greg     118120  maddg002  maddugr01            104   \n",
       "5      cole     gerrit     543037  coleg001   colege01          13125   \n",
       "\n",
       "   mlb_played_first  mlb_played_last  \n",
       "0            2008.0           2020.0  \n",
       "1            1987.0           2008.0  \n",
       "2            1984.0           2007.0  \n",
       "3            2008.0           2020.0  \n",
       "4            1986.0           2008.0  \n",
       "5            2013.0           2020.0  "
      ]
     },
     "execution_count": 25,
     "metadata": {},
     "output_type": "execute_result"
    }
   ],
   "source": [
    "player_list = [\n",
    "    ('scherzer', 'max'),\n",
    "    ('glavine', 'tom'),\n",
    "    ('clemens', 'roger'),\n",
    "    ('kershaw', 'clayton'),\n",
    "    ('maddux', 'greg'),\n",
    "    ('cole', 'gerrit')\n",
    "]\n",
    "player_search_list(player_list)"
   ]
  },
  {
   "cell_type": "code",
   "execution_count": 18,
   "id": "israeli-librarian",
   "metadata": {},
   "outputs": [
    {
     "name": "stdout",
     "output_type": "stream",
     "text": [
      "Gathering Player Data\n"
     ]
    },
    {
     "name": "stderr",
     "output_type": "stream",
     "text": [
      "<ipython-input-18-696e46e668dc>:1: DtypeWarning: Columns (43) have mixed types.Specify dtype option on import or set low_memory=False.\n",
      "  scherzer_stats = statcast_pitcher('2008-01-01', '2021-01-01', 453286)\n"
     ]
    },
    {
     "name": "stdout",
     "output_type": "stream",
     "text": [
      "Stats shape:      pitch_type   game_date  release_speed  release_pos_x  release_pos_z  \\\n",
      "0            CH  2013-10-19           85.0          -3.00           5.25   \n",
      "1            SL  2013-10-19           84.2          -3.20           5.08   \n",
      "2            FF  2013-10-19           95.8          -3.29           4.64   \n",
      "3            FF  2013-10-19           94.6          -3.29           4.71   \n",
      "4            FF  2013-10-19           93.0          -3.22           4.77   \n",
      "...         ...         ...            ...            ...            ...   \n",
      "1208         FF  2020-07-23           96.1          -3.28           5.13   \n",
      "1209         CU  2020-07-23           79.7          -3.36           5.48   \n",
      "1210         FF  2020-07-23           96.7          -3.21           5.33   \n",
      "1211         FF  2020-07-23           96.1          -3.38           5.33   \n",
      "1212         FF  2020-07-23           95.3          -3.28           5.47   \n",
      "\n",
      "        player_name  batter  pitcher     events    description  ...  \\\n",
      "0     Scherzer, Max  593428   453286       walk           ball  ...   \n",
      "1     Scherzer, Max  593428   453286        NaN           ball  ...   \n",
      "2     Scherzer, Max  593428   453286        NaN           ball  ...   \n",
      "3     Scherzer, Max  593428   453286        NaN  called_strike  ...   \n",
      "4     Scherzer, Max  593428   453286        NaN  called_strike  ...   \n",
      "...             ...     ...      ...        ...            ...  ...   \n",
      "1208  Scherzer, Max  543305   453286  field_out  hit_into_play  ...   \n",
      "1209  Scherzer, Max  543305   453286        NaN  called_strike  ...   \n",
      "1210  Scherzer, Max  543305   453286        NaN  called_strike  ...   \n",
      "1211  Scherzer, Max  543305   453286        NaN           ball  ...   \n",
      "1212  Scherzer, Max  543305   453286        NaN           ball  ...   \n",
      "\n",
      "      fld_score  post_away_score  post_home_score  post_bat_score  \\\n",
      "0             2                2                1               1   \n",
      "1             2                2                1               1   \n",
      "2             2                2                1               1   \n",
      "3             2                2                1               1   \n",
      "4             2                2                1               1   \n",
      "...         ...              ...              ...             ...   \n",
      "1208          0                0                0               0   \n",
      "1209          0                0                0               0   \n",
      "1210          0                0                0               0   \n",
      "1211          0                0                0               0   \n",
      "1212          0                0                0               0   \n",
      "\n",
      "      post_fld_score if_fielding_alignment of_fielding_alignment spin_axis  \\\n",
      "0                  2                   NaN                   NaN       NaN   \n",
      "1                  2                   NaN                   NaN       NaN   \n",
      "2                  2                   NaN                   NaN       NaN   \n",
      "3                  2                   NaN                   NaN       NaN   \n",
      "4                  2                   NaN                   NaN       NaN   \n",
      "...              ...                   ...                   ...       ...   \n",
      "1208               0         Infield shift              Standard     227.0   \n",
      "1209               0         Infield shift              Standard      60.0   \n",
      "1210               0         Infield shift              Standard     224.0   \n",
      "1211               0         Infield shift              Standard     226.0   \n",
      "1212               0         Infield shift              Standard     226.0   \n",
      "\n",
      "     delta_home_win_exp delta_run_exp  \n",
      "0                 0.035         0.235  \n",
      "1                 0.000         0.079  \n",
      "2                 0.000         0.051  \n",
      "3                 0.000        -0.069  \n",
      "4                 0.000        -0.064  \n",
      "...                 ...           ...  \n",
      "1208              0.022        -0.215  \n",
      "1209              0.000        -0.076  \n",
      "1210              0.000        -0.059  \n",
      "1211              0.000         0.060  \n",
      "1212              0.000         0.041  \n",
      "\n",
      "[40337 rows x 92 columns]\n"
     ]
    }
   ],
   "source": [
    "scherzer_stats = statcast_pitcher('2008-01-01', '2021-01-01', 453286)\n",
    "print(\"Stats shape:\", scherzer_stats)"
   ]
  },
  {
   "cell_type": "code",
   "execution_count": 21,
   "id": "charming-plymouth",
   "metadata": {
    "scrolled": false
   },
   "outputs": [
    {
     "name": "stdout",
     "output_type": "stream",
     "text": [
      "Stats shape: (40337, 92)\n",
      "Stats shape: (32710, 92)\n",
      "Stats shape: (29112, 92)\n",
      "Stats shape: (38201, 92)\n",
      "Stats shape: (29747, 92)\n",
      "Stats shape: (21494, 92)\n"
     ]
    }
   ],
   "source": [
    "scherzer_stats = statcast_pitcher('2008-01-01', '2021-01-01', 453286)\n",
    "glavine_stats = statcast_pitcher('1987-01-01', '2021-01-01', 114849)\n",
    "clemens_stats = statcast_pitcher('1984-01-01', '2021-01-01', 112388)\n",
    "kershaw_stats = statcast_pitcher('2008-01-01', '2021-01-01', 477132)\n",
    "maddux_stats = statcast_pitcher('1986-01-01', '2021-01-01', 118120)\n",
    "gerrit_stats = statcast_pitcher('2013-01-01', '2021-01-01', 543037)\n",
    "\n",
    "stats = [scherzer_stats, glavine_stats, clemens_stats, kershaw_stats, maddux_stats, gerrit_stats]\n",
    "\n",
    "for player in stats:\n",
    "    print(\"Stats shape:\", player.shape)"
   ]
  },
  {
   "cell_type": "code",
   "execution_count": 22,
   "id": "heard-seafood",
   "metadata": {},
   "outputs": [
    {
     "name": "stdout",
     "output_type": "stream",
     "text": [
      "     pitch_type   game_date  release_speed  release_pos_x  release_pos_z  \\\n",
      "0            CH  2013-10-19           85.0          -3.00           5.25   \n",
      "1            SL  2013-10-19           84.2          -3.20           5.08   \n",
      "2            FF  2013-10-19           95.8          -3.29           4.64   \n",
      "3            FF  2013-10-19           94.6          -3.29           4.71   \n",
      "4            FF  2013-10-19           93.0          -3.22           4.77   \n",
      "...         ...         ...            ...            ...            ...   \n",
      "1208         FF  2020-07-23           96.1          -3.28           5.13   \n",
      "1209         CU  2020-07-23           79.7          -3.36           5.48   \n",
      "1210         FF  2020-07-23           96.7          -3.21           5.33   \n",
      "1211         FF  2020-07-23           96.1          -3.38           5.33   \n",
      "1212         FF  2020-07-23           95.3          -3.28           5.47   \n",
      "\n",
      "        player_name  batter  pitcher     events    description  ...  \\\n",
      "0     Scherzer, Max  593428   453286       walk           ball  ...   \n",
      "1     Scherzer, Max  593428   453286       None           ball  ...   \n",
      "2     Scherzer, Max  593428   453286       None           ball  ...   \n",
      "3     Scherzer, Max  593428   453286       None  called_strike  ...   \n",
      "4     Scherzer, Max  593428   453286       None  called_strike  ...   \n",
      "...             ...     ...      ...        ...            ...  ...   \n",
      "1208  Scherzer, Max  543305   453286  field_out  hit_into_play  ...   \n",
      "1209  Scherzer, Max  543305   453286       None  called_strike  ...   \n",
      "1210  Scherzer, Max  543305   453286       None  called_strike  ...   \n",
      "1211  Scherzer, Max  543305   453286       None           ball  ...   \n",
      "1212  Scherzer, Max  543305   453286       None           ball  ...   \n",
      "\n",
      "      fld_score  post_away_score  post_home_score  post_bat_score  \\\n",
      "0             2                2                1               1   \n",
      "1             2                2                1               1   \n",
      "2             2                2                1               1   \n",
      "3             2                2                1               1   \n",
      "4             2                2                1               1   \n",
      "...         ...              ...              ...             ...   \n",
      "1208          0                0                0               0   \n",
      "1209          0                0                0               0   \n",
      "1210          0                0                0               0   \n",
      "1211          0                0                0               0   \n",
      "1212          0                0                0               0   \n",
      "\n",
      "      post_fld_score if_fielding_alignment of_fielding_alignment spin_axis  \\\n",
      "0                  2                  None                  None       NaN   \n",
      "1                  2                  None                  None       NaN   \n",
      "2                  2                  None                  None       NaN   \n",
      "3                  2                  None                  None       NaN   \n",
      "4                  2                  None                  None       NaN   \n",
      "...              ...                   ...                   ...       ...   \n",
      "1208               0         Infield shift              Standard     227.0   \n",
      "1209               0         Infield shift              Standard      60.0   \n",
      "1210               0         Infield shift              Standard     224.0   \n",
      "1211               0         Infield shift              Standard     226.0   \n",
      "1212               0         Infield shift              Standard     226.0   \n",
      "\n",
      "     delta_home_win_exp delta_run_exp  \n",
      "0                 0.035         0.235  \n",
      "1                 0.000         0.079  \n",
      "2                 0.000         0.051  \n",
      "3                 0.000        -0.069  \n",
      "4                 0.000        -0.064  \n",
      "...                 ...           ...  \n",
      "1208              0.022        -0.215  \n",
      "1209              0.000        -0.076  \n",
      "1210              0.000        -0.059  \n",
      "1211              0.000         0.060  \n",
      "1212              0.000         0.041  \n",
      "\n",
      "[40337 rows x 92 columns]\n"
     ]
    }
   ],
   "source": [
    "print(scherzer_stats)"
   ]
  },
  {
   "cell_type": "markdown",
   "id": "disabled-taste",
   "metadata": {},
   "source": [
    "## Write data to csv files"
   ]
  },
  {
   "cell_type": "code",
   "execution_count": 23,
   "id": "signal-enough",
   "metadata": {},
   "outputs": [],
   "source": [
    "import pandas as pd"
   ]
  },
  {
   "cell_type": "code",
   "execution_count": 27,
   "id": "french-worship",
   "metadata": {},
   "outputs": [],
   "source": [
    "for i in range(len(stats)):\n",
    "    stats[i].to_csv('./data/' + player_list[i][0] + '.csv')"
   ]
  }
 ],
 "metadata": {
  "kernelspec": {
   "display_name": "Python 3",
   "language": "python",
   "name": "python3"
  },
  "language_info": {
   "codemirror_mode": {
    "name": "ipython",
    "version": 3
   },
   "file_extension": ".py",
   "mimetype": "text/x-python",
   "name": "python",
   "nbconvert_exporter": "python",
   "pygments_lexer": "ipython3",
   "version": "3.8.5"
  }
 },
 "nbformat": 4,
 "nbformat_minor": 5
}
