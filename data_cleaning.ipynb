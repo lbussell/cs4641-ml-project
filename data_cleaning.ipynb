{
 "cells": [
  {
   "cell_type": "markdown",
   "id": "destroyed-ceremony",
   "metadata": {},
   "source": [
    "# Cleaning Data"
   ]
  },
  {
   "cell_type": "code",
   "execution_count": 182,
   "id": "suited-filling",
   "metadata": {
    "scrolled": true
   },
   "outputs": [],
   "source": [
    "import pandas as pd\n",
    "import numpy as np"
   ]
  },
  {
   "cell_type": "code",
   "execution_count": 183,
   "id": "665dd779",
   "metadata": {},
   "outputs": [],
   "source": [
    "change_str_to_onehot = True\n",
    "change_str_to_num = False"
   ]
  },
  {
   "cell_type": "markdown",
   "id": "amateur-boulder",
   "metadata": {},
   "source": [
    "Load Dataset"
   ]
  },
  {
   "cell_type": "code",
   "execution_count": 184,
   "id": "celtic-basics",
   "metadata": {
    "scrolled": false
   },
   "outputs": [
    {
     "output_type": "stream",
     "name": "stdout",
     "text": [
      "       Unnamed: 0 pitch_type   game_date  release_speed  release_pos_x  \\\n",
      "0               0         CH  2013-10-19           85.0          -3.00   \n",
      "1               1         SL  2013-10-19           84.2          -3.20   \n",
      "2               2         FF  2013-10-19           95.8          -3.29   \n",
      "3               3         FF  2013-10-19           94.6          -3.29   \n",
      "4               4         FF  2013-10-19           93.0          -3.22   \n",
      "...           ...        ...         ...            ...            ...   \n",
      "40332        1208         FF  2020-07-23           96.1          -3.28   \n",
      "40333        1209         CU  2020-07-23           79.7          -3.36   \n",
      "40334        1210         FF  2020-07-23           96.7          -3.21   \n",
      "40335        1211         FF  2020-07-23           96.1          -3.38   \n",
      "40336        1212         FF  2020-07-23           95.3          -3.28   \n",
      "\n",
      "       release_pos_z    player_name  batter  pitcher     events  ...  \\\n",
      "0               5.25  Scherzer, Max  593428   453286       walk  ...   \n",
      "1               5.08  Scherzer, Max  593428   453286        NaN  ...   \n",
      "2               4.64  Scherzer, Max  593428   453286        NaN  ...   \n",
      "3               4.71  Scherzer, Max  593428   453286        NaN  ...   \n",
      "4               4.77  Scherzer, Max  593428   453286        NaN  ...   \n",
      "...              ...            ...     ...      ...        ...  ...   \n",
      "40332           5.13  Scherzer, Max  543305   453286  field_out  ...   \n",
      "40333           5.48  Scherzer, Max  543305   453286        NaN  ...   \n",
      "40334           5.33  Scherzer, Max  543305   453286        NaN  ...   \n",
      "40335           5.33  Scherzer, Max  543305   453286        NaN  ...   \n",
      "40336           5.47  Scherzer, Max  543305   453286        NaN  ...   \n",
      "\n",
      "      fld_score  post_away_score  post_home_score  post_bat_score  \\\n",
      "0             2                2                1               1   \n",
      "1             2                2                1               1   \n",
      "2             2                2                1               1   \n",
      "3             2                2                1               1   \n",
      "4             2                2                1               1   \n",
      "...         ...              ...              ...             ...   \n",
      "40332         0                0                0               0   \n",
      "40333         0                0                0               0   \n",
      "40334         0                0                0               0   \n",
      "40335         0                0                0               0   \n",
      "40336         0                0                0               0   \n",
      "\n",
      "       post_fld_score  if_fielding_alignment of_fielding_alignment spin_axis  \\\n",
      "0                   2                    NaN                   NaN       NaN   \n",
      "1                   2                    NaN                   NaN       NaN   \n",
      "2                   2                    NaN                   NaN       NaN   \n",
      "3                   2                    NaN                   NaN       NaN   \n",
      "4                   2                    NaN                   NaN       NaN   \n",
      "...               ...                    ...                   ...       ...   \n",
      "40332               0          Infield shift              Standard     227.0   \n",
      "40333               0          Infield shift              Standard      60.0   \n",
      "40334               0          Infield shift              Standard     224.0   \n",
      "40335               0          Infield shift              Standard     226.0   \n",
      "40336               0          Infield shift              Standard     226.0   \n",
      "\n",
      "      delta_home_win_exp delta_run_exp  \n",
      "0                  0.035         0.235  \n",
      "1                  0.000         0.079  \n",
      "2                  0.000         0.051  \n",
      "3                  0.000        -0.069  \n",
      "4                  0.000        -0.064  \n",
      "...                  ...           ...  \n",
      "40332              0.022        -0.215  \n",
      "40333              0.000        -0.076  \n",
      "40334              0.000        -0.059  \n",
      "40335              0.000         0.060  \n",
      "40336              0.000         0.041  \n",
      "\n",
      "[40337 rows x 93 columns]\n",
      "C:\\Users\\lsbus\\AppData\\Roaming\\Python\\Python39\\site-packages\\IPython\\core\\interactiveshell.py:3165: DtypeWarning: Columns (88,89) have mixed types.Specify dtype option on import or set low_memory=False.\n",
      "  has_raised = await self.run_ast_nodes(code_ast.body, cell_name,\n"
     ]
    }
   ],
   "source": [
    "player = 'cole'\n",
    "# player = 'scherzer'\n",
    "# player = 'maddux' # does not have plate_x/plate_z for all pitches\n",
    "# player = 'kershaw'\n",
    "data = pd.read_csv('./data/' + player + '.csv')\n",
    "print(data)"
   ]
  },
  {
   "cell_type": "markdown",
   "id": "public-attention",
   "metadata": {},
   "source": [
    "Simplify the batters on base columns:"
   ]
  },
  {
   "cell_type": "code",
   "execution_count": 185,
   "id": "popular-perth",
   "metadata": {
    "scrolled": false
   },
   "outputs": [],
   "source": [
    "data['on_base'] = np.sum([\n",
    "    pd.notnull(data['on_1b']),\n",
    "    pd.notnull(data['on_2b']),\n",
    "    pd.notnull(data['on_3b'])\n",
    "], axis=0)"
   ]
  },
  {
   "cell_type": "markdown",
   "id": "broke-expense",
   "metadata": {},
   "source": [
    "In the data we have, the pitch (label) and the results of the pitch are in the same row. We would like the label to be on the same row as the previous pitch data, so we need to shift some of the columns down one row. "
   ]
  },
  {
   "cell_type": "code",
   "execution_count": 186,
   "id": "artificial-norfolk",
   "metadata": {
    "scrolled": true
   },
   "outputs": [],
   "source": [
    "to_shift_down = [\n",
    "    'events',\n",
    "    'release_speed',\n",
    "    'zone',\n",
    "    'type',\n",
    "    'bb_type',\n",
    "    'plate_x',\n",
    "    'plate_z'\n",
    "]\n",
    "\n",
    "groups = data.groupby(['game_pk', 'inning'])\n",
    "\n",
    "list_of_dfs = []\n",
    "for _, g in groups:\n",
    "    list_of_dfs.append(g)\n",
    "\n",
    "for i, df in enumerate(list_of_dfs):\n",
    "    for column in df:\n",
    "        if column in to_shift_down:\n",
    "            df[\"prev_\" + column] = df[column].shift(periods=1)\n",
    "            df.drop(df.head(1).index, inplace=True)\n",
    "    list_of_dfs[i] = df\n",
    "            \n",
    "cleaned_data = pd.concat(list_of_dfs, axis=0, sort=False)\n",
    "\n",
    "for col in to_shift_down:\n",
    "    cleaned_data.pop(col)"
   ]
  },
  {
   "cell_type": "markdown",
   "id": "waiting-georgia",
   "metadata": {},
   "source": [
    "Now, we explicitly list the columns that we want to keep:"
   ]
  },
  {
   "cell_type": "code",
   "execution_count": 187,
   "id": "smaller-edmonton",
   "metadata": {
    "scrolled": true
   },
   "outputs": [],
   "source": [
    "keep_columns = [\n",
    "    'pitch_type', # label\n",
    "    'release_speed', # previous pitch velocity\n",
    "    'stand',\n",
    "    'balls',\n",
    "    'strikes',\n",
    "    'plate_x',\n",
    "    'plate_y',\n",
    "    'plate_z',\n",
    "    'outs_when_up',\n",
    "    'inning',\n",
    "    'game_pk',\n",
    "    'pitch_num',\n",
    "    'bat_score',\n",
    "    'fld_score',\n",
    "    'on_base',\n",
    "    'prev_type',\n",
    "    # 'prev_bb_type',\n",
    "    'prev_plate_x',\n",
    "    'prev_plate_z'\n",
    "]"
   ]
  },
  {
   "cell_type": "markdown",
   "id": "marine-practice",
   "metadata": {},
   "source": [
    "Delete the unnecessary columns:"
   ]
  },
  {
   "cell_type": "code",
   "execution_count": 188,
   "id": "accessible-marriage",
   "metadata": {
    "scrolled": false
   },
   "outputs": [
    {
     "output_type": "stream",
     "name": "stdout",
     "text": [
      "Kept Columns:\npitch_type\nstand\nballs\nstrikes\nouts_when_up\ninning\ngame_pk\nbat_score\nfld_score\non_base\nprev_type\nprev_plate_x\nprev_plate_z\n"
     ]
    }
   ],
   "source": [
    "for column in cleaned_data:\n",
    "    if column not in keep_columns:\n",
    "        cleaned_data.pop(column)\n",
    "\n",
    "print(\"Kept Columns:\")\n",
    "for column in cleaned_data:\n",
    "    print(column)"
   ]
  },
  {
   "source": [
    "Change pitch_type to a binary classification: 1 for fastball, 0 for not fastball."
   ],
   "cell_type": "markdown",
   "metadata": {}
  },
  {
   "cell_type": "code",
   "execution_count": 189,
   "metadata": {},
   "outputs": [
    {
     "output_type": "stream",
     "name": "stdout",
     "text": [
      "Unique pitch types: ['FT' 'FF' 'CH' 'SL' nan 'IN' 'PO' 'FC' 'CU']\nPercent of pitches that are fastballs: 58.378045562494506\n"
     ]
    }
   ],
   "source": [
    "change_pitches = True\n",
    "\n",
    "print(\"Unique pitch types:\", cleaned_data['pitch_type'].unique())\n",
    "\n",
    "fastball_types = [\n",
    "    'FF', # Four-seam Fastball\n",
    "    'FA', # Four-seam Fastball\n",
    "    'FT', # Two-seam Fastball / Sinker\n",
    "    'SI'  # Two-seam Fastball / Sinker\n",
    "]\n",
    "\n",
    "if change_pitches:\n",
    "    cleaned_data['pitch_type'] = cleaned_data['pitch_type'].map(lambda pt: 1 if pt in fastball_types else 0)\n",
    "\n",
    "pct_fastball = cleaned_data['pitch_type'].sum() / len(cleaned_data['pitch_type'])\n",
    "print('Percent of pitches that are fastballs:', pct_fastball * 100)"
   ]
  },
  {
   "cell_type": "markdown",
   "id": "consolidated-kennedy",
   "metadata": {},
   "source": [
    "Change some of the kept data to one-hot format:"
   ]
  },
  {
   "cell_type": "code",
   "execution_count": 190,
   "id": "previous-falls",
   "metadata": {
    "scrolled": true
   },
   "outputs": [],
   "source": [
    "change_to_oh = [\n",
    "    'stand',\n",
    "    'prev_type',\n",
    "    # 'prev_bb_type',\n",
    "]"
   ]
  },
  {
   "cell_type": "code",
   "execution_count": 191,
   "id": "accredited-deviation",
   "metadata": {
    "scrolled": false
   },
   "outputs": [
    {
     "output_type": "stream",
     "name": "stdout",
     "text": [
      "       pitch_type  balls  strikes  outs_when_up  inning  game_pk  bat_score  \\\n18251           1      1        0             1       4   234156          6   \n18252           1      0        0             1       4   234156          6   \n18253           1      0        0             0       4   234156          6   \n18241           1      1        1             0       5   234156          6   \n18242           0      1        0             0       5   234156          6   \n...           ...    ...      ...           ...     ...      ...        ...   \n39893           1      2        2             0       7   631679          4   \n39894           0      1        2             0       7   631679          4   \n39895           1      1        1             0       7   631679          4   \n39896           1      1        0             0       7   631679          4   \n39897           0      0        0             0       7   631679          4   \n\n       fld_score  on_base  prev_plate_x  prev_plate_z  stand_R  prev_type_B  \\\n18251          2        0         -0.10          1.78        0            1   \n18252          2        0         -1.09          2.40        0            0   \n18253          2        0         -1.09          3.13        0            1   \n18241          3        0         -0.13          2.94        0            0   \n18242          3        0          0.37          3.53        0            0   \n...          ...      ...           ...           ...      ...          ...   \n39893          5        0          0.39          1.56        0            0   \n39894          5        0         -0.08          2.89        0            0   \n39895          5        0          1.24          2.95        0            1   \n39896          5        0         -0.21          2.73        0            0   \n39897          5        0         -0.22          2.45        0            0   \n\n       prev_type_S  prev_type_X  \n18251            0            0  \n18252            1            0  \n18253            0            0  \n18241            1            0  \n18242            1            0  \n...            ...          ...  \n39893            1            0  \n39894            1            0  \n39895            0            0  \n39896            1            0  \n39897            1            0  \n\n[22738 rows x 15 columns]\n"
     ]
    }
   ],
   "source": [
    "if change_str_to_onehot:\n",
    "    for oh_column in change_to_oh:\n",
    "        drop_first = (oh_column == 'stand')\n",
    "        dummies = pd.get_dummies(cleaned_data[oh_column], drop_first=drop_first, prefix=oh_column)\n",
    "        cleaned_data = pd.concat([cleaned_data, dummies], axis=1)\n",
    "        cleaned_data.pop(oh_column)\n",
    "\n",
    "print(cleaned_data)"
   ]
  },
  {
   "source": [
    "Change field score and batting score to score differential. Positive differential means the field team (pitching team) is ahead, negative means behind."
   ],
   "cell_type": "markdown",
   "metadata": {}
  },
  {
   "cell_type": "code",
   "execution_count": 192,
   "metadata": {},
   "outputs": [
    {
     "output_type": "stream",
     "name": "stdout",
     "text": [
      "18251   -4\n18252   -4\n18253   -4\n18241   -3\n18242   -3\n        ..\n39893    1\n39894    1\n39895    1\n39896    1\n39897    1\nName: score_diff, Length: 22738, dtype: int64\n"
     ]
    }
   ],
   "source": [
    "fld_score = 'fld_score'\n",
    "bat_score = 'bat_score'\n",
    "\n",
    "cleaned_data['score_diff'] = cleaned_data[fld_score] - cleaned_data[bat_score]\n",
    "\n",
    "cleaned_data.pop(fld_score)\n",
    "cleaned_data.pop(bat_score)\n",
    "\n",
    "print(cleaned_data['score_diff'])"
   ]
  },
  {
   "source": [
    "Inspect the fully cleaned data:\n",
    "\n",
    "- Balls: the number of balls "
   ],
   "cell_type": "markdown",
   "metadata": {}
  },
  {
   "cell_type": "code",
   "execution_count": 193,
   "metadata": {},
   "outputs": [
    {
     "output_type": "stream",
     "name": "stdout",
     "text": [
      "       pitch_type  balls  strikes  outs_when_up  inning  game_pk  on_base  \\\n18251           1      1        0             1       4   234156        0   \n18252           1      0        0             1       4   234156        0   \n18253           1      0        0             0       4   234156        0   \n18241           1      1        1             0       5   234156        0   \n18242           0      1        0             0       5   234156        0   \n...           ...    ...      ...           ...     ...      ...      ...   \n39893           1      2        2             0       7   631679        0   \n39894           0      1        2             0       7   631679        0   \n39895           1      1        1             0       7   631679        0   \n39896           1      1        0             0       7   631679        0   \n39897           0      0        0             0       7   631679        0   \n\n       prev_plate_x  prev_plate_z  stand_R  prev_type_B  prev_type_S  \\\n18251         -0.10          1.78        0            1            0   \n18252         -1.09          2.40        0            0            1   \n18253         -1.09          3.13        0            1            0   \n18241         -0.13          2.94        0            0            1   \n18242          0.37          3.53        0            0            1   \n...             ...           ...      ...          ...          ...   \n39893          0.39          1.56        0            0            1   \n39894         -0.08          2.89        0            0            1   \n39895          1.24          2.95        0            1            0   \n39896         -0.21          2.73        0            0            1   \n39897         -0.22          2.45        0            0            1   \n\n       prev_type_X  score_diff  \n18251            0          -4  \n18252            0          -4  \n18253            0          -4  \n18241            0          -3  \n18242            0          -3  \n...            ...         ...  \n39893            0           1  \n39894            0           1  \n39895            0           1  \n39896            0           1  \n39897            0           1  \n\n[22738 rows x 14 columns]\n"
     ]
    }
   ],
   "source": [
    "print(cleaned_data)"
   ]
  },
  {
   "cell_type": "markdown",
   "id": "reverse-teacher",
   "metadata": {},
   "source": [
    "Save the data:"
   ]
  },
  {
   "cell_type": "code",
   "execution_count": 194,
   "id": "lucky-nevada",
   "metadata": {
    "scrolled": true
   },
   "outputs": [],
   "source": [
    "cleaned_data.to_csv('./cleaned_data/' + player + '.csv')"
   ]
  },
  {
   "cell_type": "markdown",
   "id": "armed-cursor",
   "metadata": {},
   "source": [
    "Remove remaining NaNs and write data to `.npy` files"
   ]
  },
  {
   "cell_type": "code",
   "execution_count": 195,
   "id": "boolean-revolution",
   "metadata": {
    "scrolled": false
   },
   "outputs": [],
   "source": [
    "separate_by_inning = False\n",
    "\n",
    "cleaned_data.dropna(axis=0, how='any', thresh=None, subset=None, inplace=True)\n",
    "\n",
    "if separate_by_inning:\n",
    "    groups = cleaned_data.groupby(['game_pk', 'inning'])\n",
    "\n",
    "    inning_dfs = []\n",
    "    for _, g in groups:\n",
    "        inning_dfs.append(g)\n",
    "\n",
    "    def writeFiles(inning_df):\n",
    "        game = inning_df.iloc[0]['game_pk']\n",
    "        inning = inning_df.iloc[0]['inning']\n",
    "        labels = inning_df.pop('pitch_type').astype('category').cat.codes\n",
    "        np.save('./cleaned_data/' + player + '/labels/' + player + '_' + str(game) + '_' + str(inning) + '.npy', labels)\n",
    "        np.save('./cleaned_data/' + player + '/data/' + player + '_' + str(game) + '_' + str(inning) + '.npy', inning_df)\n",
    "\n",
    "    for inning_df in inning_dfs:\n",
    "        writeFiles(inning_df)\n",
    "else:\n",
    "    l = cleaned_data.pop('pitch_type').astype('category')\n",
    "    labels = l.cat.codes\n",
    "    np.save('./cleaned_data/' + player + '/labels.npy', labels)\n",
    "    np.save('./cleaned_data/' + player + '/data.npy', cleaned_data)"
   ]
  },
  {
   "cell_type": "code",
   "execution_count": 196,
   "id": "scheduled-gabriel",
   "metadata": {
    "scrolled": true
   },
   "outputs": [
    {
     "output_type": "stream",
     "name": "stdout",
     "text": [
      "<pandas.core.arrays.categorical.CategoricalAccessor object at 0x000002059668D0D0>\n1    13201\n0     9312\ndtype: int64\n"
     ]
    }
   ],
   "source": [
    "print(l.cat)\n",
    "print(labels.value_counts())"
   ]
  }
 ],
 "metadata": {
  "kernelspec": {
   "name": "python394jvsc74a57bd0ac59ebe37160ed0dfa835113d9b8498d9f09ceb179beaac4002f036b9467c963",
   "display_name": "Python 3.9.4 64-bit"
  },
  "language_info": {
   "codemirror_mode": {
    "name": "ipython",
    "version": 3
   },
   "file_extension": ".py",
   "mimetype": "text/x-python",
   "name": "python",
   "nbconvert_exporter": "python",
   "pygments_lexer": "ipython3",
   "version": "3.9.4"
  },
  "metadata": {
   "interpreter": {
    "hash": "ac59ebe37160ed0dfa835113d9b8498d9f09ceb179beaac4002f036b9467c963"
   }
  }
 },
 "nbformat": 4,
 "nbformat_minor": 5
}