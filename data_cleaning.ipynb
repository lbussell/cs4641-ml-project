{
 "cells": [
  {
   "cell_type": "markdown",
   "id": "photographic-burner",
   "metadata": {},
   "source": [
    "# Cleaning Data"
   ]
  },
  {
   "cell_type": "code",
   "execution_count": 30,
   "id": "sophisticated-terrain",
   "metadata": {},
   "outputs": [],
   "source": [
    "import pandas as pd\n",
    "import numpy as np"
   ]
  },
  {
   "cell_type": "markdown",
   "id": "molecular-frequency",
   "metadata": {},
   "source": [
    "Load Dataset"
   ]
  },
  {
   "cell_type": "code",
   "execution_count": 31,
   "id": "identified-comedy",
   "metadata": {
    "scrolled": true
   },
   "outputs": [
    {
     "name": "stdout",
     "output_type": "stream",
     "text": [
      "       Unnamed: 0 pitch_type   game_date  release_speed  release_pos_x  \\\n",
      "0               0         KC  2018-10-14           80.6          -2.04   \n",
      "1               1         SL  2018-10-14           88.0          -2.01   \n",
      "2               2         CH  2018-10-14           86.1          -2.23   \n",
      "3               3         CH  2018-10-14           87.5          -2.14   \n",
      "4               4         KC  2018-10-14           80.5          -2.04   \n",
      "...           ...        ...         ...            ...            ...   \n",
      "21489        5407         SL  2019-03-29           89.8          -2.35   \n",
      "21490        5408         FF  2019-03-29           96.3          -2.16   \n",
      "21491        5409         SL  2019-03-29           88.5          -2.34   \n",
      "21492        5410         FT  2019-03-29           96.7          -2.34   \n",
      "21493        5411         FF  2019-03-29           96.2          -2.24   \n",
      "\n",
      "       release_pos_z   player_name  batter  pitcher     events  ... fld_score  \\\n",
      "0               5.61  Cole, Gerrit  543877   543037  field_out  ...         4   \n",
      "1               5.74  Cole, Gerrit  543877   543037        NaN  ...         4   \n",
      "2               5.45  Cole, Gerrit  598265   543037  field_out  ...         4   \n",
      "3               5.37  Cole, Gerrit  598265   543037        NaN  ...         4   \n",
      "4               5.63  Cole, Gerrit  598265   543037        NaN  ...         4   \n",
      "...              ...           ...     ...      ...        ...  ...       ...   \n",
      "21489           5.95  Cole, Gerrit  640457   543037        NaN  ...         0   \n",
      "21490           5.89  Cole, Gerrit  640457   543037        NaN  ...         0   \n",
      "21491           5.96  Cole, Gerrit  640457   543037        NaN  ...         0   \n",
      "21492           5.77  Cole, Gerrit  640457   543037        NaN  ...         0   \n",
      "21493           5.93  Cole, Gerrit  640457   543037        NaN  ...         0   \n",
      "\n",
      "       post_away_score  post_home_score  post_bat_score  post_fld_score  \\\n",
      "0                    4                5               5               4   \n",
      "1                    4                5               5               4   \n",
      "2                    4                5               5               4   \n",
      "3                    4                5               5               4   \n",
      "4                    4                5               5               4   \n",
      "...                ...              ...             ...             ...   \n",
      "21489                0                0               0               0   \n",
      "21490                0                0               0               0   \n",
      "21491                0                0               0               0   \n",
      "21492                0                0               0               0   \n",
      "21493                0                0               0               0   \n",
      "\n",
      "       if_fielding_alignment of_fielding_alignment spin_axis  \\\n",
      "0                   Standard             Strategic      27.0   \n",
      "1                   Standard             Strategic     133.0   \n",
      "2              Infield shift              Standard     220.0   \n",
      "3              Infield shift              Standard     229.0   \n",
      "4              Infield shift              Standard      33.0   \n",
      "...                      ...                   ...       ...   \n",
      "21489          Infield shift              Standard     158.0   \n",
      "21490          Infield shift              Standard     209.0   \n",
      "21491          Infield shift              Standard     174.0   \n",
      "21492          Infield shift              Standard     225.0   \n",
      "21493          Infield shift              Standard     208.0   \n",
      "\n",
      "      delta_home_win_exp delta_run_exp  \n",
      "0                 -0.010        -0.084  \n",
      "1                  0.000        -0.016  \n",
      "2                 -0.015        -0.160  \n",
      "3                  0.000        -0.034  \n",
      "4                  0.000         0.027  \n",
      "...                  ...           ...  \n",
      "21489              0.000         0.000  \n",
      "21490              0.000        -0.073  \n",
      "21491              0.000         0.054  \n",
      "21492              0.000         0.027  \n",
      "21493              0.000        -0.039  \n",
      "\n",
      "[21494 rows x 93 columns]\n"
     ]
    },
    {
     "name": "stderr",
     "output_type": "stream",
     "text": [
      "/home/logan/.local/lib/python3.8/site-packages/IPython/core/interactiveshell.py:3165: DtypeWarning: Columns (44) have mixed types.Specify dtype option on import or set low_memory=False.\n",
      "  has_raised = await self.run_ast_nodes(code_ast.body, cell_name,\n"
     ]
    }
   ],
   "source": [
    "data = pd.read_csv('./data/cole.csv')\n",
    "print(data)"
   ]
  },
  {
   "cell_type": "markdown",
   "id": "organizational-locking",
   "metadata": {},
   "source": [
    "Simplify the batters on base columns:"
   ]
  },
  {
   "cell_type": "code",
   "execution_count": 32,
   "id": "hispanic-explosion",
   "metadata": {
    "scrolled": true
   },
   "outputs": [
    {
     "name": "stdout",
     "output_type": "stream",
     "text": [
      "       Unnamed: 0 pitch_type   game_date  release_speed  release_pos_x  \\\n",
      "0               0         KC  2018-10-14           80.6          -2.04   \n",
      "1               1         SL  2018-10-14           88.0          -2.01   \n",
      "2               2         CH  2018-10-14           86.1          -2.23   \n",
      "3               3         CH  2018-10-14           87.5          -2.14   \n",
      "4               4         KC  2018-10-14           80.5          -2.04   \n",
      "...           ...        ...         ...            ...            ...   \n",
      "21489        5407         SL  2019-03-29           89.8          -2.35   \n",
      "21490        5408         FF  2019-03-29           96.3          -2.16   \n",
      "21491        5409         SL  2019-03-29           88.5          -2.34   \n",
      "21492        5410         FT  2019-03-29           96.7          -2.34   \n",
      "21493        5411         FF  2019-03-29           96.2          -2.24   \n",
      "\n",
      "       release_pos_z   player_name  batter  pitcher     events  ...  \\\n",
      "0               5.61  Cole, Gerrit  543877   543037  field_out  ...   \n",
      "1               5.74  Cole, Gerrit  543877   543037        NaN  ...   \n",
      "2               5.45  Cole, Gerrit  598265   543037  field_out  ...   \n",
      "3               5.37  Cole, Gerrit  598265   543037        NaN  ...   \n",
      "4               5.63  Cole, Gerrit  598265   543037        NaN  ...   \n",
      "...              ...           ...     ...      ...        ...  ...   \n",
      "21489           5.95  Cole, Gerrit  640457   543037        NaN  ...   \n",
      "21490           5.89  Cole, Gerrit  640457   543037        NaN  ...   \n",
      "21491           5.96  Cole, Gerrit  640457   543037        NaN  ...   \n",
      "21492           5.77  Cole, Gerrit  640457   543037        NaN  ...   \n",
      "21493           5.93  Cole, Gerrit  640457   543037        NaN  ...   \n",
      "\n",
      "      post_away_score  post_home_score  post_bat_score  post_fld_score  \\\n",
      "0                   4                5               5               4   \n",
      "1                   4                5               5               4   \n",
      "2                   4                5               5               4   \n",
      "3                   4                5               5               4   \n",
      "4                   4                5               5               4   \n",
      "...               ...              ...             ...             ...   \n",
      "21489               0                0               0               0   \n",
      "21490               0                0               0               0   \n",
      "21491               0                0               0               0   \n",
      "21492               0                0               0               0   \n",
      "21493               0                0               0               0   \n",
      "\n",
      "       if_fielding_alignment  of_fielding_alignment spin_axis  \\\n",
      "0                   Standard              Strategic      27.0   \n",
      "1                   Standard              Strategic     133.0   \n",
      "2              Infield shift               Standard     220.0   \n",
      "3              Infield shift               Standard     229.0   \n",
      "4              Infield shift               Standard      33.0   \n",
      "...                      ...                    ...       ...   \n",
      "21489          Infield shift               Standard     158.0   \n",
      "21490          Infield shift               Standard     209.0   \n",
      "21491          Infield shift               Standard     174.0   \n",
      "21492          Infield shift               Standard     225.0   \n",
      "21493          Infield shift               Standard     208.0   \n",
      "\n",
      "      delta_home_win_exp delta_run_exp on_base  \n",
      "0                 -0.010        -0.084       0  \n",
      "1                  0.000        -0.016       0  \n",
      "2                 -0.015        -0.160       0  \n",
      "3                  0.000        -0.034       0  \n",
      "4                  0.000         0.027       0  \n",
      "...                  ...           ...     ...  \n",
      "21489              0.000         0.000       0  \n",
      "21490              0.000        -0.073       0  \n",
      "21491              0.000         0.054       0  \n",
      "21492              0.000         0.027       0  \n",
      "21493              0.000        -0.039       0  \n",
      "\n",
      "[21494 rows x 94 columns]\n"
     ]
    }
   ],
   "source": [
    "data['on_base'] = np.sum([\n",
    "    pd.notnull(data['on_1b']),\n",
    "    pd.notnull(data['on_2b']),\n",
    "    pd.notnull(data['on_3b'])\n",
    "], axis=0)\n",
    "\n",
    "print(data)"
   ]
  },
  {
   "cell_type": "markdown",
   "id": "knowing-flooring",
   "metadata": {},
   "source": [
    "Now, we explicitly list the columns that we want to keep:"
   ]
  },
  {
   "cell_type": "code",
   "execution_count": 33,
   "id": "discrete-cement",
   "metadata": {},
   "outputs": [],
   "source": [
    "keep_columns = [\n",
    "    'pitch_type',\n",
    "    'game_date',\n",
    "    'release_speed',\n",
    "    'batter',\n",
    "    'events',\n",
    "    'zone',\n",
    "    'stand',\n",
    "    'type',\n",
    "    'bb_type',\n",
    "    'balls',\n",
    "    'strikes',\n",
    "    'plate_x',\n",
    "    'plate_y',\n",
    "    'plate_z',\n",
    "    'outs_when_up',\n",
    "    'inning',\n",
    "    'game_pk',\n",
    "    'pitch_num',\n",
    "    'pitch_name',\n",
    "    'home_score',\n",
    "    'away_score',\n",
    "    'bat_score',\n",
    "    'fld_score',\n",
    "    'on_base'\n",
    "]"
   ]
  },
  {
   "cell_type": "markdown",
   "id": "guided-treat",
   "metadata": {},
   "source": [
    "Delete the unnecessary columns:"
   ]
  },
  {
   "cell_type": "code",
   "execution_count": 34,
   "id": "congressional-computer",
   "metadata": {
    "scrolled": true
   },
   "outputs": [
    {
     "name": "stdout",
     "output_type": "stream",
     "text": [
      "Kept Columns:\n",
      "pitch_type\n",
      "game_date\n",
      "release_speed\n",
      "batter\n",
      "events\n",
      "zone\n",
      "stand\n",
      "type\n",
      "bb_type\n",
      "balls\n",
      "strikes\n",
      "plate_x\n",
      "plate_z\n",
      "outs_when_up\n",
      "inning\n",
      "game_pk\n",
      "pitch_name\n",
      "home_score\n",
      "away_score\n",
      "bat_score\n",
      "fld_score\n",
      "on_base\n"
     ]
    }
   ],
   "source": [
    "for column in data:\n",
    "    if column not in keep_columns:\n",
    "        data.pop(column)\n",
    "\n",
    "print(\"Kept Columns:\")\n",
    "for column in data:\n",
    "    print(column)"
   ]
  },
  {
   "cell_type": "markdown",
   "id": "intellectual-angle",
   "metadata": {},
   "source": [
    "Save the data:"
   ]
  },
  {
   "cell_type": "code",
   "execution_count": 35,
   "id": "elegant-request",
   "metadata": {},
   "outputs": [],
   "source": [
    "data.to_csv('./cleaned_data/cole.csv')"
   ]
  }
 ],
 "metadata": {
  "kernelspec": {
   "display_name": "Python 3",
   "language": "python",
   "name": "python3"
  },
  "language_info": {
   "codemirror_mode": {
    "name": "ipython",
    "version": 3
   },
   "file_extension": ".py",
   "mimetype": "text/x-python",
   "name": "python",
   "nbconvert_exporter": "python",
   "pygments_lexer": "ipython3",
   "version": "3.8.5"
  }
 },
 "nbformat": 4,
 "nbformat_minor": 5
}
