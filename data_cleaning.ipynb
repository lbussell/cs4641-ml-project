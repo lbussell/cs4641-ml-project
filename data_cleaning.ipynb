{
 "cells": [
  {
   "cell_type": "markdown",
   "id": "destroyed-ceremony",
   "metadata": {},
   "source": [
    "# Cleaning Data"
   ]
  },
  {
   "cell_type": "code",
   "execution_count": 283,
   "id": "suited-filling",
   "metadata": {
    "scrolled": true
   },
   "outputs": [],
   "source": [
    "import pandas as pd\n",
    "import numpy as np"
   ]
  },
  {
   "cell_type": "code",
   "execution_count": 284,
   "id": "665dd779",
   "metadata": {},
   "outputs": [],
   "source": [
    "change_str_to_onehot = True\n",
    "change_str_to_num = False"
   ]
  },
  {
   "cell_type": "markdown",
   "id": "amateur-boulder",
   "metadata": {},
   "source": [
    "Load Dataset"
   ]
  },
  {
   "cell_type": "code",
   "execution_count": 285,
   "id": "celtic-basics",
   "metadata": {
    "scrolled": false
   },
   "outputs": [
    {
     "output_type": "stream",
     "name": "stdout",
     "text": [
      "       Unnamed: 0 pitch_type   game_date  release_speed  release_pos_x  \\\n",
      "0               0         KC  2018-10-14           80.6          -2.04   \n",
      "1               1         SL  2018-10-14           88.0          -2.01   \n",
      "2               2         CH  2018-10-14           86.1          -2.23   \n",
      "3               3         CH  2018-10-14           87.5          -2.14   \n",
      "4               4         KC  2018-10-14           80.5          -2.04   \n",
      "...           ...        ...         ...            ...            ...   \n",
      "21489        5407         SL  2019-03-29           89.8          -2.35   \n",
      "21490        5408         FF  2019-03-29           96.3          -2.16   \n",
      "21491        5409         SL  2019-03-29           88.5          -2.34   \n",
      "21492        5410         FT  2019-03-29           96.7          -2.34   \n",
      "21493        5411         FF  2019-03-29           96.2          -2.24   \n",
      "\n",
      "       release_pos_z   player_name  batter  pitcher     events  ... fld_score  \\\n",
      "0               5.61  Cole, Gerrit  543877   543037  field_out  ...         4   \n",
      "1               5.74  Cole, Gerrit  543877   543037        NaN  ...         4   \n",
      "2               5.45  Cole, Gerrit  598265   543037  field_out  ...         4   \n",
      "3               5.37  Cole, Gerrit  598265   543037        NaN  ...         4   \n",
      "4               5.63  Cole, Gerrit  598265   543037        NaN  ...         4   \n",
      "...              ...           ...     ...      ...        ...  ...       ...   \n",
      "21489           5.95  Cole, Gerrit  640457   543037        NaN  ...         0   \n",
      "21490           5.89  Cole, Gerrit  640457   543037        NaN  ...         0   \n",
      "21491           5.96  Cole, Gerrit  640457   543037        NaN  ...         0   \n",
      "21492           5.77  Cole, Gerrit  640457   543037        NaN  ...         0   \n",
      "21493           5.93  Cole, Gerrit  640457   543037        NaN  ...         0   \n",
      "\n",
      "       post_away_score  post_home_score  post_bat_score  post_fld_score  \\\n",
      "0                    4                5               5               4   \n",
      "1                    4                5               5               4   \n",
      "2                    4                5               5               4   \n",
      "3                    4                5               5               4   \n",
      "4                    4                5               5               4   \n",
      "...                ...              ...             ...             ...   \n",
      "21489                0                0               0               0   \n",
      "21490                0                0               0               0   \n",
      "21491                0                0               0               0   \n",
      "21492                0                0               0               0   \n",
      "21493                0                0               0               0   \n",
      "\n",
      "       if_fielding_alignment of_fielding_alignment spin_axis  \\\n",
      "0                   Standard             Strategic      27.0   \n",
      "1                   Standard             Strategic     133.0   \n",
      "2              Infield shift              Standard     220.0   \n",
      "3              Infield shift              Standard     229.0   \n",
      "4              Infield shift              Standard      33.0   \n",
      "...                      ...                   ...       ...   \n",
      "21489          Infield shift              Standard     158.0   \n",
      "21490          Infield shift              Standard     209.0   \n",
      "21491          Infield shift              Standard     174.0   \n",
      "21492          Infield shift              Standard     225.0   \n",
      "21493          Infield shift              Standard     208.0   \n",
      "\n",
      "      delta_home_win_exp delta_run_exp  \n",
      "0                 -0.010        -0.084  \n",
      "1                  0.000        -0.016  \n",
      "2                 -0.015        -0.160  \n",
      "3                  0.000        -0.034  \n",
      "4                  0.000         0.027  \n",
      "...                  ...           ...  \n",
      "21489              0.000         0.000  \n",
      "21490              0.000        -0.073  \n",
      "21491              0.000         0.054  \n",
      "21492              0.000         0.027  \n",
      "21493              0.000        -0.039  \n",
      "\n",
      "[21494 rows x 93 columns]\n",
      "C:\\Users\\lsbus\\AppData\\Roaming\\Python\\Python39\\site-packages\\IPython\\core\\interactiveshell.py:3165: DtypeWarning: Columns (44) have mixed types.Specify dtype option on import or set low_memory=False.\n",
      "  has_raised = await self.run_ast_nodes(code_ast.body, cell_name,\n"
     ]
    }
   ],
   "source": [
    "player = 'cole'\n",
    "# player = 'scherzer'\n",
    "# player = 'kershaw'\n",
    "\n",
    "data = pd.read_csv('./data/' + player + '.csv')\n",
    "print(data)"
   ]
  },
  {
   "source": [
    "Drop NA in the `pitch_type` column, which is our label"
   ],
   "cell_type": "markdown",
   "metadata": {}
  },
  {
   "cell_type": "code",
   "execution_count": 286,
   "metadata": {},
   "outputs": [
    {
     "output_type": "execute_result",
     "data": {
      "text/plain": [
       "       Unnamed: 0 pitch_type   game_date  release_speed  release_pos_x  \\\n",
       "0               0         KC  2018-10-14           80.6          -2.04   \n",
       "1               1         SL  2018-10-14           88.0          -2.01   \n",
       "2               2         CH  2018-10-14           86.1          -2.23   \n",
       "3               3         CH  2018-10-14           87.5          -2.14   \n",
       "4               4         KC  2018-10-14           80.5          -2.04   \n",
       "...           ...        ...         ...            ...            ...   \n",
       "21489        5407         SL  2019-03-29           89.8          -2.35   \n",
       "21490        5408         FF  2019-03-29           96.3          -2.16   \n",
       "21491        5409         SL  2019-03-29           88.5          -2.34   \n",
       "21492        5410         FT  2019-03-29           96.7          -2.34   \n",
       "21493        5411         FF  2019-03-29           96.2          -2.24   \n",
       "\n",
       "       release_pos_z   player_name  batter  pitcher     events  ... fld_score  \\\n",
       "0               5.61  Cole, Gerrit  543877   543037  field_out  ...         4   \n",
       "1               5.74  Cole, Gerrit  543877   543037        NaN  ...         4   \n",
       "2               5.45  Cole, Gerrit  598265   543037  field_out  ...         4   \n",
       "3               5.37  Cole, Gerrit  598265   543037        NaN  ...         4   \n",
       "4               5.63  Cole, Gerrit  598265   543037        NaN  ...         4   \n",
       "...              ...           ...     ...      ...        ...  ...       ...   \n",
       "21489           5.95  Cole, Gerrit  640457   543037        NaN  ...         0   \n",
       "21490           5.89  Cole, Gerrit  640457   543037        NaN  ...         0   \n",
       "21491           5.96  Cole, Gerrit  640457   543037        NaN  ...         0   \n",
       "21492           5.77  Cole, Gerrit  640457   543037        NaN  ...         0   \n",
       "21493           5.93  Cole, Gerrit  640457   543037        NaN  ...         0   \n",
       "\n",
       "       post_away_score  post_home_score  post_bat_score  post_fld_score  \\\n",
       "0                    4                5               5               4   \n",
       "1                    4                5               5               4   \n",
       "2                    4                5               5               4   \n",
       "3                    4                5               5               4   \n",
       "4                    4                5               5               4   \n",
       "...                ...              ...             ...             ...   \n",
       "21489                0                0               0               0   \n",
       "21490                0                0               0               0   \n",
       "21491                0                0               0               0   \n",
       "21492                0                0               0               0   \n",
       "21493                0                0               0               0   \n",
       "\n",
       "       if_fielding_alignment of_fielding_alignment spin_axis  \\\n",
       "0                   Standard             Strategic      27.0   \n",
       "1                   Standard             Strategic     133.0   \n",
       "2              Infield shift              Standard     220.0   \n",
       "3              Infield shift              Standard     229.0   \n",
       "4              Infield shift              Standard      33.0   \n",
       "...                      ...                   ...       ...   \n",
       "21489          Infield shift              Standard     158.0   \n",
       "21490          Infield shift              Standard     209.0   \n",
       "21491          Infield shift              Standard     174.0   \n",
       "21492          Infield shift              Standard     225.0   \n",
       "21493          Infield shift              Standard     208.0   \n",
       "\n",
       "      delta_home_win_exp delta_run_exp  \n",
       "0                 -0.010        -0.084  \n",
       "1                  0.000        -0.016  \n",
       "2                 -0.015        -0.160  \n",
       "3                  0.000        -0.034  \n",
       "4                  0.000         0.027  \n",
       "...                  ...           ...  \n",
       "21489              0.000         0.000  \n",
       "21490              0.000        -0.073  \n",
       "21491              0.000         0.054  \n",
       "21492              0.000         0.027  \n",
       "21493              0.000        -0.039  \n",
       "\n",
       "[21464 rows x 93 columns]"
      ],
      "text/html": "<div>\n<style scoped>\n    .dataframe tbody tr th:only-of-type {\n        vertical-align: middle;\n    }\n\n    .dataframe tbody tr th {\n        vertical-align: top;\n    }\n\n    .dataframe thead th {\n        text-align: right;\n    }\n</style>\n<table border=\"1\" class=\"dataframe\">\n  <thead>\n    <tr style=\"text-align: right;\">\n      <th></th>\n      <th>Unnamed: 0</th>\n      <th>pitch_type</th>\n      <th>game_date</th>\n      <th>release_speed</th>\n      <th>release_pos_x</th>\n      <th>release_pos_z</th>\n      <th>player_name</th>\n      <th>batter</th>\n      <th>pitcher</th>\n      <th>events</th>\n      <th>...</th>\n      <th>fld_score</th>\n      <th>post_away_score</th>\n      <th>post_home_score</th>\n      <th>post_bat_score</th>\n      <th>post_fld_score</th>\n      <th>if_fielding_alignment</th>\n      <th>of_fielding_alignment</th>\n      <th>spin_axis</th>\n      <th>delta_home_win_exp</th>\n      <th>delta_run_exp</th>\n    </tr>\n  </thead>\n  <tbody>\n    <tr>\n      <th>0</th>\n      <td>0</td>\n      <td>KC</td>\n      <td>2018-10-14</td>\n      <td>80.6</td>\n      <td>-2.04</td>\n      <td>5.61</td>\n      <td>Cole, Gerrit</td>\n      <td>543877</td>\n      <td>543037</td>\n      <td>field_out</td>\n      <td>...</td>\n      <td>4</td>\n      <td>4</td>\n      <td>5</td>\n      <td>5</td>\n      <td>4</td>\n      <td>Standard</td>\n      <td>Strategic</td>\n      <td>27.0</td>\n      <td>-0.010</td>\n      <td>-0.084</td>\n    </tr>\n    <tr>\n      <th>1</th>\n      <td>1</td>\n      <td>SL</td>\n      <td>2018-10-14</td>\n      <td>88.0</td>\n      <td>-2.01</td>\n      <td>5.74</td>\n      <td>Cole, Gerrit</td>\n      <td>543877</td>\n      <td>543037</td>\n      <td>NaN</td>\n      <td>...</td>\n      <td>4</td>\n      <td>4</td>\n      <td>5</td>\n      <td>5</td>\n      <td>4</td>\n      <td>Standard</td>\n      <td>Strategic</td>\n      <td>133.0</td>\n      <td>0.000</td>\n      <td>-0.016</td>\n    </tr>\n    <tr>\n      <th>2</th>\n      <td>2</td>\n      <td>CH</td>\n      <td>2018-10-14</td>\n      <td>86.1</td>\n      <td>-2.23</td>\n      <td>5.45</td>\n      <td>Cole, Gerrit</td>\n      <td>598265</td>\n      <td>543037</td>\n      <td>field_out</td>\n      <td>...</td>\n      <td>4</td>\n      <td>4</td>\n      <td>5</td>\n      <td>5</td>\n      <td>4</td>\n      <td>Infield shift</td>\n      <td>Standard</td>\n      <td>220.0</td>\n      <td>-0.015</td>\n      <td>-0.160</td>\n    </tr>\n    <tr>\n      <th>3</th>\n      <td>3</td>\n      <td>CH</td>\n      <td>2018-10-14</td>\n      <td>87.5</td>\n      <td>-2.14</td>\n      <td>5.37</td>\n      <td>Cole, Gerrit</td>\n      <td>598265</td>\n      <td>543037</td>\n      <td>NaN</td>\n      <td>...</td>\n      <td>4</td>\n      <td>4</td>\n      <td>5</td>\n      <td>5</td>\n      <td>4</td>\n      <td>Infield shift</td>\n      <td>Standard</td>\n      <td>229.0</td>\n      <td>0.000</td>\n      <td>-0.034</td>\n    </tr>\n    <tr>\n      <th>4</th>\n      <td>4</td>\n      <td>KC</td>\n      <td>2018-10-14</td>\n      <td>80.5</td>\n      <td>-2.04</td>\n      <td>5.63</td>\n      <td>Cole, Gerrit</td>\n      <td>598265</td>\n      <td>543037</td>\n      <td>NaN</td>\n      <td>...</td>\n      <td>4</td>\n      <td>4</td>\n      <td>5</td>\n      <td>5</td>\n      <td>4</td>\n      <td>Infield shift</td>\n      <td>Standard</td>\n      <td>33.0</td>\n      <td>0.000</td>\n      <td>0.027</td>\n    </tr>\n    <tr>\n      <th>...</th>\n      <td>...</td>\n      <td>...</td>\n      <td>...</td>\n      <td>...</td>\n      <td>...</td>\n      <td>...</td>\n      <td>...</td>\n      <td>...</td>\n      <td>...</td>\n      <td>...</td>\n      <td>...</td>\n      <td>...</td>\n      <td>...</td>\n      <td>...</td>\n      <td>...</td>\n      <td>...</td>\n      <td>...</td>\n      <td>...</td>\n      <td>...</td>\n      <td>...</td>\n      <td>...</td>\n    </tr>\n    <tr>\n      <th>21489</th>\n      <td>5407</td>\n      <td>SL</td>\n      <td>2019-03-29</td>\n      <td>89.8</td>\n      <td>-2.35</td>\n      <td>5.95</td>\n      <td>Cole, Gerrit</td>\n      <td>640457</td>\n      <td>543037</td>\n      <td>NaN</td>\n      <td>...</td>\n      <td>0</td>\n      <td>0</td>\n      <td>0</td>\n      <td>0</td>\n      <td>0</td>\n      <td>Infield shift</td>\n      <td>Standard</td>\n      <td>158.0</td>\n      <td>0.000</td>\n      <td>0.000</td>\n    </tr>\n    <tr>\n      <th>21490</th>\n      <td>5408</td>\n      <td>FF</td>\n      <td>2019-03-29</td>\n      <td>96.3</td>\n      <td>-2.16</td>\n      <td>5.89</td>\n      <td>Cole, Gerrit</td>\n      <td>640457</td>\n      <td>543037</td>\n      <td>NaN</td>\n      <td>...</td>\n      <td>0</td>\n      <td>0</td>\n      <td>0</td>\n      <td>0</td>\n      <td>0</td>\n      <td>Infield shift</td>\n      <td>Standard</td>\n      <td>209.0</td>\n      <td>0.000</td>\n      <td>-0.073</td>\n    </tr>\n    <tr>\n      <th>21491</th>\n      <td>5409</td>\n      <td>SL</td>\n      <td>2019-03-29</td>\n      <td>88.5</td>\n      <td>-2.34</td>\n      <td>5.96</td>\n      <td>Cole, Gerrit</td>\n      <td>640457</td>\n      <td>543037</td>\n      <td>NaN</td>\n      <td>...</td>\n      <td>0</td>\n      <td>0</td>\n      <td>0</td>\n      <td>0</td>\n      <td>0</td>\n      <td>Infield shift</td>\n      <td>Standard</td>\n      <td>174.0</td>\n      <td>0.000</td>\n      <td>0.054</td>\n    </tr>\n    <tr>\n      <th>21492</th>\n      <td>5410</td>\n      <td>FT</td>\n      <td>2019-03-29</td>\n      <td>96.7</td>\n      <td>-2.34</td>\n      <td>5.77</td>\n      <td>Cole, Gerrit</td>\n      <td>640457</td>\n      <td>543037</td>\n      <td>NaN</td>\n      <td>...</td>\n      <td>0</td>\n      <td>0</td>\n      <td>0</td>\n      <td>0</td>\n      <td>0</td>\n      <td>Infield shift</td>\n      <td>Standard</td>\n      <td>225.0</td>\n      <td>0.000</td>\n      <td>0.027</td>\n    </tr>\n    <tr>\n      <th>21493</th>\n      <td>5411</td>\n      <td>FF</td>\n      <td>2019-03-29</td>\n      <td>96.2</td>\n      <td>-2.24</td>\n      <td>5.93</td>\n      <td>Cole, Gerrit</td>\n      <td>640457</td>\n      <td>543037</td>\n      <td>NaN</td>\n      <td>...</td>\n      <td>0</td>\n      <td>0</td>\n      <td>0</td>\n      <td>0</td>\n      <td>0</td>\n      <td>Infield shift</td>\n      <td>Standard</td>\n      <td>208.0</td>\n      <td>0.000</td>\n      <td>-0.039</td>\n    </tr>\n  </tbody>\n</table>\n<p>21464 rows × 93 columns</p>\n</div>"
     },
     "metadata": {},
     "execution_count": 286
    }
   ],
   "source": [
    "data.dropna(how='any', subset=['pitch_type'])"
   ]
  },
  {
   "cell_type": "markdown",
   "id": "public-attention",
   "metadata": {},
   "source": [
    "Simplify the batters on base columns:"
   ]
  },
  {
   "cell_type": "code",
   "execution_count": 287,
   "id": "popular-perth",
   "metadata": {
    "scrolled": false
   },
   "outputs": [],
   "source": [
    "data['on_base'] = np.sum([\n",
    "    pd.notnull(data['on_1b']),\n",
    "    pd.notnull(data['on_2b']),\n",
    "    pd.notnull(data['on_3b'])\n",
    "], axis=0)"
   ]
  },
  {
   "cell_type": "markdown",
   "id": "broke-expense",
   "metadata": {},
   "source": [
    "In the data we have, the pitch (label) and the results of the pitch are in the same row. We would like the label to be on the same row as the previous pitch data, so we need to shift some of the columns down one row. "
   ]
  },
  {
   "cell_type": "code",
   "execution_count": 288,
   "id": "artificial-norfolk",
   "metadata": {
    "scrolled": true
   },
   "outputs": [],
   "source": [
    "to_shift_down = [\n",
    "    'events',\n",
    "    'release_speed',\n",
    "    'zone',\n",
    "    'type',\n",
    "    'bb_type',\n",
    "    'plate_x',\n",
    "    'plate_z',\n",
    "    'pitch_type'\n",
    "]\n",
    "\n",
    "groups = data.groupby(['game_pk', 'inning'])\n",
    "\n",
    "list_of_dfs = []\n",
    "for _, g in groups:\n",
    "    list_of_dfs.append(g)\n",
    "\n",
    "for i, df in enumerate(list_of_dfs):\n",
    "    for column in df:\n",
    "        if column in to_shift_down:\n",
    "            df[\"prev_\" + column] = df[column].shift(periods=1)\n",
    "            df.drop(df.head(1).index, inplace=True)\n",
    "    list_of_dfs[i] = df\n",
    "            \n",
    "cleaned_data = pd.concat(list_of_dfs, axis=0, sort=False)\n",
    "\n",
    "for col in to_shift_down:\n",
    "    if col != 'pitch_type':\n",
    "        cleaned_data.pop(col)\n",
    "\n",
    "cleaned_data = cleaned_data.sort_index()"
   ]
  },
  {
   "cell_type": "markdown",
   "id": "waiting-georgia",
   "metadata": {},
   "source": [
    "Now, we explicitly list the columns that we want to keep:"
   ]
  },
  {
   "cell_type": "code",
   "execution_count": 289,
   "id": "smaller-edmonton",
   "metadata": {
    "scrolled": true
   },
   "outputs": [],
   "source": [
    "keep_columns = [\n",
    "    'pitch_type', # label\n",
    "    'prev_pitch_type', # include the previous pitch type as well\n",
    "    # 'release_speed', # previous pitch velocity\n",
    "    'stand',\n",
    "    'balls',\n",
    "    'strikes',\n",
    "    'plate_x',\n",
    "    'plate_y',\n",
    "    'plate_z',\n",
    "    'outs_when_up',\n",
    "    'inning',\n",
    "    'game_pk',\n",
    "    'pitch_num',\n",
    "    'bat_score',\n",
    "    'fld_score',\n",
    "    'on_base',\n",
    "    'prev_type',\n",
    "    # 'prev_bb_type',\n",
    "    'prev_plate_x',\n",
    "    'prev_plate_z'\n",
    "]"
   ]
  },
  {
   "cell_type": "markdown",
   "id": "marine-practice",
   "metadata": {},
   "source": [
    "Delete the unnecessary columns:"
   ]
  },
  {
   "cell_type": "code",
   "execution_count": 290,
   "id": "accessible-marriage",
   "metadata": {
    "scrolled": false
   },
   "outputs": [
    {
     "output_type": "stream",
     "name": "stdout",
     "text": [
      "Kept Columns:\npitch_type\nstand\nballs\nstrikes\nouts_when_up\ninning\ngame_pk\nbat_score\nfld_score\non_base\nprev_pitch_type\nprev_type\nprev_plate_x\nprev_plate_z\n"
     ]
    }
   ],
   "source": [
    "for column in cleaned_data:\n",
    "    if column not in keep_columns:\n",
    "        cleaned_data.pop(column)\n",
    "\n",
    "print(\"Kept Columns:\")\n",
    "for column in cleaned_data:\n",
    "    print(column)"
   ]
  },
  {
   "source": [
    "Change pitch_type to a binary classification: 1 for fastball, 0 for not fastball."
   ],
   "cell_type": "markdown",
   "metadata": {}
  },
  {
   "cell_type": "code",
   "execution_count": 291,
   "metadata": {},
   "outputs": [
    {
     "output_type": "stream",
     "name": "stdout",
     "text": [
      "Unique pitch types: ['FF' 'CH' 'SL' 'KC' nan 'FT' 'PO' 'SI' 'IN' 'CU']\nPercent of pitches that are fastballs: 61.64656727756148\n"
     ]
    }
   ],
   "source": [
    "change_pitches = True\n",
    "\n",
    "print(\"Unique pitch types:\", cleaned_data['pitch_type'].unique())\n",
    "\n",
    "fastball_types = [\n",
    "    'FF', # Four-seam Fastball\n",
    "    'FA', # Four-seam Fastball\n",
    "    'FT', # Two-seam Fastball / Sinker\n",
    "    'SI'  # Two-seam Fastball / Sinker\n",
    "]\n",
    "\n",
    "if change_pitches:\n",
    "    cleaned_data['pitch_type'] = cleaned_data['pitch_type'].map(lambda pt: 1 if pt in fastball_types else 0)\n",
    "    cleaned_data['prev_pitch_type'] = cleaned_data['prev_pitch_type'].map(lambda pt: 1 if pt in fastball_types else 0)\n",
    "\n",
    "pct_fastball = cleaned_data['pitch_type'].sum() / len(cleaned_data['pitch_type'])\n",
    "print('Percent of pitches that are fastballs:', pct_fastball * 100)"
   ]
  },
  {
   "cell_type": "markdown",
   "id": "consolidated-kennedy",
   "metadata": {},
   "source": [
    "Change some of the kept data to one-hot format:"
   ]
  },
  {
   "cell_type": "code",
   "execution_count": 292,
   "id": "previous-falls",
   "metadata": {
    "scrolled": true
   },
   "outputs": [],
   "source": [
    "change_to_oh = [\n",
    "    'stand',\n",
    "    'prev_type',\n",
    "    # 'prev_bb_type',\n",
    "]"
   ]
  },
  {
   "cell_type": "code",
   "execution_count": 293,
   "id": "accredited-deviation",
   "metadata": {
    "scrolled": false
   },
   "outputs": [
    {
     "output_type": "stream",
     "name": "stdout",
     "text": [
      "       pitch_type  balls  strikes  outs_when_up  inning  game_pk  bat_score  \\\n8               1      0        0             0       6   563394          5   \n17              0      0        1             0       5   563394          5   \n18              1      0        0             0       5   563394          5   \n34              0      0        2             1       3   563394          2   \n35              0      0        1             1       3   563394          2   \n...           ...    ...      ...           ...     ...      ...        ...   \n21489           0      2        2             0       1   566665          0   \n21490           1      2        1             0       1   566665          0   \n21491           0      1        1             0       1   566665          0   \n21492           1      0        1             0       1   566665          0   \n21493           1      0        0             0       1   566665          0   \n\n       fld_score  on_base  prev_pitch_type  prev_plate_x  prev_plate_z  \\\n8              4        0                1          1.15          0.94   \n17             4        0                0          0.08          2.03   \n18             4        0                0         -0.24          1.86   \n34             4        3                1         -0.38          3.70   \n35             4        3                0          0.18          3.53   \n...          ...      ...              ...           ...           ...   \n21489          0        0                0         -0.04          0.35   \n21490          0        0                0          0.79          1.42   \n21491          0        0                1         -0.01          1.30   \n21492          0        0                0         -0.22          1.11   \n21493          0        0                1         -0.96          2.85   \n\n       stand_R  prev_type_B  prev_type_S  prev_type_X  \n8            1            1            0            0  \n17           1            0            1            0  \n18           1            0            0            1  \n34           1            1            0            0  \n35           1            0            1            0  \n...        ...          ...          ...          ...  \n21489        0            1            0            0  \n21490        0            0            1            0  \n21491        0            0            1            0  \n21492        0            1            0            0  \n21493        0            1            0            0  \n\n[10531 rows x 16 columns]\n"
     ]
    }
   ],
   "source": [
    "if change_str_to_onehot:\n",
    "    for oh_column in change_to_oh:\n",
    "        drop_first = (oh_column == 'stand')\n",
    "        dummies = pd.get_dummies(cleaned_data[oh_column], drop_first=drop_first, prefix=oh_column)\n",
    "        cleaned_data = pd.concat([cleaned_data, dummies], axis=1)\n",
    "        cleaned_data.pop(oh_column)\n",
    "\n",
    "print(cleaned_data)"
   ]
  },
  {
   "source": [
    "Change field score and batting score to score differential. Positive differential means the field team (pitching team) is ahead, negative means behind."
   ],
   "cell_type": "markdown",
   "metadata": {}
  },
  {
   "cell_type": "code",
   "execution_count": 294,
   "metadata": {},
   "outputs": [
    {
     "output_type": "stream",
     "name": "stdout",
     "text": [
      "8       -1\n17      -1\n18      -1\n34       2\n35       2\n        ..\n21489    0\n21490    0\n21491    0\n21492    0\n21493    0\nName: score_diff, Length: 10531, dtype: int64\n"
     ]
    }
   ],
   "source": [
    "fld_score = 'fld_score'\n",
    "bat_score = 'bat_score'\n",
    "\n",
    "cleaned_data['score_diff'] = cleaned_data[fld_score] - cleaned_data[bat_score]\n",
    "\n",
    "cleaned_data.pop(fld_score)\n",
    "cleaned_data.pop(bat_score)\n",
    "\n",
    "print(cleaned_data['score_diff'])"
   ]
  },
  {
   "source": [
    "Inspect the fully cleaned data:\n",
    "\n",
    "- Balls: the number of balls "
   ],
   "cell_type": "markdown",
   "metadata": {}
  },
  {
   "cell_type": "code",
   "execution_count": 295,
   "metadata": {},
   "outputs": [
    {
     "output_type": "stream",
     "name": "stdout",
     "text": [
      "       pitch_type  balls  strikes  outs_when_up  inning  game_pk  on_base  \\\n8               1      0        0             0       6   563394        0   \n17              0      0        1             0       5   563394        0   \n18              1      0        0             0       5   563394        0   \n34              0      0        2             1       3   563394        3   \n35              0      0        1             1       3   563394        3   \n...           ...    ...      ...           ...     ...      ...      ...   \n21489           0      2        2             0       1   566665        0   \n21490           1      2        1             0       1   566665        0   \n21491           0      1        1             0       1   566665        0   \n21492           1      0        1             0       1   566665        0   \n21493           1      0        0             0       1   566665        0   \n\n       prev_pitch_type  prev_plate_x  prev_plate_z  stand_R  prev_type_B  \\\n8                    1          1.15          0.94        1            1   \n17                   0          0.08          2.03        1            0   \n18                   0         -0.24          1.86        1            0   \n34                   1         -0.38          3.70        1            1   \n35                   0          0.18          3.53        1            0   \n...                ...           ...           ...      ...          ...   \n21489                0         -0.04          0.35        0            1   \n21490                0          0.79          1.42        0            0   \n21491                1         -0.01          1.30        0            0   \n21492                0         -0.22          1.11        0            1   \n21493                1         -0.96          2.85        0            1   \n\n       prev_type_S  prev_type_X  score_diff  \n8                0            0          -1  \n17               1            0          -1  \n18               0            1          -1  \n34               0            0           2  \n35               1            0           2  \n...            ...          ...         ...  \n21489            0            0           0  \n21490            1            0           0  \n21491            1            0           0  \n21492            0            0           0  \n21493            0            0           0  \n\n[10531 rows x 15 columns]\n"
     ]
    }
   ],
   "source": [
    "print(cleaned_data)"
   ]
  },
  {
   "cell_type": "markdown",
   "id": "reverse-teacher",
   "metadata": {},
   "source": [
    "Save the data:"
   ]
  },
  {
   "cell_type": "code",
   "execution_count": 296,
   "id": "lucky-nevada",
   "metadata": {
    "scrolled": true
   },
   "outputs": [],
   "source": [
    "cleaned_data.to_csv('./cleaned_data/' + player + '.csv')"
   ]
  },
  {
   "cell_type": "markdown",
   "id": "armed-cursor",
   "metadata": {},
   "source": [
    "Remove remaining NaNs and write data to `.npy` files"
   ]
  },
  {
   "cell_type": "code",
   "execution_count": 297,
   "metadata": {},
   "outputs": [],
   "source": [
    "import os, re, os.path\n",
    "\n",
    "playerPath = 'cleaned_data/' + player\n",
    "dataPath = playerPath + '/data'\n",
    "labelsPath = playerPath + '/labels'\n",
    "\n",
    "def deleteAllFilesInFolder(mypath):\n",
    "    for root, dirs, files in os.walk(mypath):\n",
    "        for file in files:\n",
    "            os.remove(os.path.join(root, file))\n",
    "\n",
    "deleteAllFilesInFolder(dataPath)\n",
    "deleteAllFilesInFolder(labelsPath)\n",
    "deleteAllFilesInFolder(playerPath)"
   ]
  },
  {
   "cell_type": "code",
   "execution_count": 298,
   "id": "boolean-revolution",
   "metadata": {
    "scrolled": false
   },
   "outputs": [],
   "source": [
    "cleaned_data.dropna(axis=0, how='any', thresh=None, subset=None, inplace=True)\n",
    "\n",
    "#########################################\n",
    "# Write data separated by inning for LSTM\n",
    "#########################################\n",
    "\n",
    "inning_data = cleaned_data.copy(deep=True)\n",
    "\n",
    "groups = inning_data.groupby(['game_pk', 'inning'])\n",
    "\n",
    "inning_dfs = []\n",
    "for _, g in groups:\n",
    "    inning_dfs.append(g)\n",
    "\n",
    "def writeFiles(inning_df):\n",
    "    game = inning_df.iloc[0]['game_pk']\n",
    "    inning = inning_df.iloc[0]['inning']\n",
    "    labels = inning_df.pop('pitch_type').astype('category').cat.codes\n",
    "    np.save('./cleaned_data/' + player + '/labels/' + player + '_' + str(int(game)) + '_' + str(int(inning)) + '.npy', labels)\n",
    "    np.save('./cleaned_data/' + player + '/data/' + player + '_' + str(int(game)) + '_' + str(int(inning)) + '.npy', inning_df)\n",
    "\n",
    "for inning_df in inning_dfs:\n",
    "    writeFiles(inning_df)\n",
    "\n",
    "#####################################\n",
    "# Write all data at once, unseparated\n",
    "#####################################\n",
    "\n",
    "l = cleaned_data.pop('pitch_type').astype('category')\n",
    "labels = l.cat.codes\n",
    "np.save('./cleaned_data/' + player + '/labels.npy', labels)\n",
    "np.save('./cleaned_data/' + player + '/data.npy', cleaned_data)"
   ]
  },
  {
   "cell_type": "code",
   "execution_count": 299,
   "id": "scheduled-gabriel",
   "metadata": {
    "scrolled": true
   },
   "outputs": [
    {
     "output_type": "stream",
     "name": "stdout",
     "text": [
      "<pandas.core.arrays.categorical.CategoricalAccessor object at 0x0000018C10B1BCD0>\n1    6481\n0    4020\ndtype: int64\n"
     ]
    }
   ],
   "source": [
    "print(l.cat)\n",
    "print(labels.value_counts())"
   ]
  }
 ],
 "metadata": {
  "kernelspec": {
   "name": "python394jvsc74a57bd0ac59ebe37160ed0dfa835113d9b8498d9f09ceb179beaac4002f036b9467c963",
   "display_name": "Python 3.9.4 64-bit"
  },
  "language_info": {
   "codemirror_mode": {
    "name": "ipython",
    "version": 3
   },
   "file_extension": ".py",
   "mimetype": "text/x-python",
   "name": "python",
   "nbconvert_exporter": "python",
   "pygments_lexer": "ipython3",
   "version": "3.9.4"
  },
  "metadata": {
   "interpreter": {
    "hash": "ac59ebe37160ed0dfa835113d9b8498d9f09ceb179beaac4002f036b9467c963"
   }
  }
 },
 "nbformat": 4,
 "nbformat_minor": 5
}