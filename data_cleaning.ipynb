{
 "cells": [
  {
   "cell_type": "markdown",
   "id": "destroyed-ceremony",
   "metadata": {},
   "source": [
    "# Cleaning Data"
   ]
  },
  {
   "cell_type": "code",
   "execution_count": 50,
   "id": "suited-filling",
   "metadata": {
    "scrolled": true
   },
   "outputs": [],
   "source": [
    "import pandas as pd\n",
    "import numpy as np"
   ]
  },
  {
   "cell_type": "code",
   "execution_count": 51,
   "id": "665dd779",
   "metadata": {},
   "outputs": [],
   "source": [
    "change_str_to_onehot = True\n",
    "change_str_to_num = False"
   ]
  },
  {
   "cell_type": "markdown",
   "id": "amateur-boulder",
   "metadata": {},
   "source": [
    "Load Dataset"
   ]
  },
  {
   "cell_type": "code",
   "execution_count": 52,
   "id": "celtic-basics",
   "metadata": {
    "scrolled": false
   },
   "outputs": [
    {
     "output_type": "stream",
     "name": "stdout",
     "text": [
      "       Unnamed: 0 pitch_type   game_date  release_speed  release_pos_x  \\\n",
      "0               0        NaN  2003-10-03            NaN            NaN   \n",
      "1               1        NaN  2003-10-03            NaN            NaN   \n",
      "2               2        NaN  2003-10-03            NaN            NaN   \n",
      "3               3        NaN  2003-10-03            NaN            NaN   \n",
      "4               4        NaN  2003-10-03            NaN            NaN   \n",
      "...           ...        ...         ...            ...            ...   \n",
      "29742       14212        NaN  2004-04-07            NaN            NaN   \n",
      "29743       14213        NaN  2004-04-07            NaN            NaN   \n",
      "29744       14214        NaN  2004-04-07            NaN            NaN   \n",
      "29745       14215        NaN  2004-04-07            NaN            NaN   \n",
      "29746       14216        NaN  2004-04-07            NaN            NaN   \n",
      "\n",
      "       release_pos_z   player_name  batter  pitcher        events  ...  \\\n",
      "0                NaN  Maddux, Greg  119064   118120     field_out  ...   \n",
      "1                NaN  Maddux, Greg  119064   118120           NaN  ...   \n",
      "2                NaN  Maddux, Greg  119064   118120           NaN  ...   \n",
      "3                NaN  Maddux, Greg  114924   118120     field_out  ...   \n",
      "4                NaN  Maddux, Greg  114924   118120           NaN  ...   \n",
      "...              ...           ...     ...      ...           ...  ...   \n",
      "29742            NaN  Maddux, Greg  117501   118120           NaN  ...   \n",
      "29743            NaN  Maddux, Greg  117501   118120           NaN  ...   \n",
      "29744            NaN  Maddux, Greg  117501   118120           NaN  ...   \n",
      "29745            NaN  Maddux, Greg  117501   118120           NaN  ...   \n",
      "29746            NaN  Maddux, Greg  150090   118120  hit_by_pitch  ...   \n",
      "\n",
      "      fld_score  post_away_score  post_home_score  post_bat_score  \\\n",
      "0             0                0                2               2   \n",
      "1             0                0                2               2   \n",
      "2             0                0                2               2   \n",
      "3             0                0                2               2   \n",
      "4             0                0                2               2   \n",
      "...         ...              ...              ...             ...   \n",
      "29742         0                0                0               0   \n",
      "29743         0                0                0               0   \n",
      "29744         0                0                0               0   \n",
      "29745         0                0                0               0   \n",
      "29746         0                0                0               0   \n",
      "\n",
      "       post_fld_score  if_fielding_alignment of_fielding_alignment spin_axis  \\\n",
      "0                   0                    NaN                   NaN       NaN   \n",
      "1                   0                    NaN                   NaN       NaN   \n",
      "2                   0                    NaN                   NaN       NaN   \n",
      "3                   0                    NaN                   NaN       NaN   \n",
      "4                   0                    NaN                   NaN       NaN   \n",
      "...               ...                    ...                   ...       ...   \n",
      "29742               0                    NaN                   NaN       NaN   \n",
      "29743               0                    NaN                   NaN       NaN   \n",
      "29744               0                    NaN                   NaN       NaN   \n",
      "29745               0                    NaN                   NaN       NaN   \n",
      "29746               0                    NaN                   NaN       NaN   \n",
      "\n",
      "      delta_home_win_exp delta_run_exp  \n",
      "0                 -0.007           NaN  \n",
      "1                  0.000           NaN  \n",
      "2                  0.000           NaN  \n",
      "3                 -0.009           NaN  \n",
      "4                  0.000           NaN  \n",
      "...                  ...           ...  \n",
      "29742             -0.057         0.072  \n",
      "29743              0.000        -0.077  \n",
      "29744              0.000         0.036  \n",
      "29745              0.000        -0.056  \n",
      "29746              0.036         0.389  \n",
      "\n",
      "[29747 rows x 93 columns]\n",
      "C:\\Users\\lsbus\\AppData\\Roaming\\Python\\Python39\\site-packages\\IPython\\core\\interactiveshell.py:3165: DtypeWarning: Columns (1,44,79) have mixed types.Specify dtype option on import or set low_memory=False.\n",
      "  has_raised = await self.run_ast_nodes(code_ast.body, cell_name,\n"
     ]
    }
   ],
   "source": [
    "# player = 'cole'\n",
    "# player = 'scherzer'\n",
    "# player = 'maddux' # does not have plate_x/plate_z for all pitches\n",
    "player = 'kershaw'\n",
    "data = pd.read_csv('./data/' + player + '.csv')\n",
    "print(data)"
   ]
  },
  {
   "cell_type": "markdown",
   "id": "public-attention",
   "metadata": {},
   "source": [
    "Simplify the batters on base columns:"
   ]
  },
  {
   "cell_type": "code",
   "execution_count": 53,
   "id": "popular-perth",
   "metadata": {
    "scrolled": false
   },
   "outputs": [],
   "source": [
    "data['on_base'] = np.sum([\n",
    "    pd.notnull(data['on_1b']),\n",
    "    pd.notnull(data['on_2b']),\n",
    "    pd.notnull(data['on_3b'])\n",
    "], axis=0)"
   ]
  },
  {
   "cell_type": "markdown",
   "id": "broke-expense",
   "metadata": {},
   "source": [
    "In the data we have, the pitch (label) and the results of the pitch are in the same row. We would like the label to be on the same row as the previous pitch data, so we need to shift some of the columns down one row. "
   ]
  },
  {
   "cell_type": "code",
   "execution_count": 54,
   "id": "artificial-norfolk",
   "metadata": {
    "scrolled": true
   },
   "outputs": [],
   "source": [
    "to_shift_down = [\n",
    "    'events',\n",
    "    'release_speed',\n",
    "    'zone',\n",
    "    'type',\n",
    "    'bb_type',\n",
    "    'plate_x',\n",
    "    'plate_z'\n",
    "]\n",
    "\n",
    "groups = data.groupby(['game_pk', 'inning'])\n",
    "\n",
    "list_of_dfs = []\n",
    "for _, g in groups:\n",
    "    list_of_dfs.append(g)\n",
    "\n",
    "for i, df in enumerate(list_of_dfs):\n",
    "    for column in df:\n",
    "        if column in to_shift_down:\n",
    "            df[\"prev_\" + column] = df[column].shift(periods=1)\n",
    "            df.drop(df.head(1).index, inplace=True)\n",
    "    list_of_dfs[i] = df\n",
    "            \n",
    "cleaned_data = pd.concat(list_of_dfs, axis=0, sort=False)\n",
    "\n",
    "for col in to_shift_down:\n",
    "    cleaned_data.pop(col)"
   ]
  },
  {
   "cell_type": "markdown",
   "id": "waiting-georgia",
   "metadata": {},
   "source": [
    "Now, we explicitly list the columns that we want to keep:"
   ]
  },
  {
   "cell_type": "code",
   "execution_count": 55,
   "id": "smaller-edmonton",
   "metadata": {
    "scrolled": true
   },
   "outputs": [],
   "source": [
    "keep_columns = [\n",
    "    'pitch_type', # label\n",
    "    'release_speed', # previous pitch velocity\n",
    "    'stand',\n",
    "    'balls',\n",
    "    'strikes',\n",
    "    'plate_x',\n",
    "    'plate_y',\n",
    "    'plate_z',\n",
    "    'outs_when_up',\n",
    "    'inning',\n",
    "    'game_pk',\n",
    "    'pitch_num',\n",
    "    'bat_score',\n",
    "    'fld_score',\n",
    "    'on_base',\n",
    "    'prev_type',\n",
    "    # 'prev_bb_type',\n",
    "    'prev_plate_x',\n",
    "    'prev_plate_z'\n",
    "]"
   ]
  },
  {
   "cell_type": "markdown",
   "id": "marine-practice",
   "metadata": {},
   "source": [
    "Delete the unnecessary columns:"
   ]
  },
  {
   "cell_type": "code",
   "execution_count": 56,
   "id": "accessible-marriage",
   "metadata": {
    "scrolled": false
   },
   "outputs": [
    {
     "output_type": "stream",
     "name": "stdout",
     "text": [
      "Kept Columns:\npitch_type\nstand\nballs\nstrikes\nouts_when_up\ninning\ngame_pk\nbat_score\nfld_score\non_base\nprev_type\nprev_plate_x\nprev_plate_z\n"
     ]
    }
   ],
   "source": [
    "for column in cleaned_data:\n",
    "    if column not in keep_columns:\n",
    "        cleaned_data.pop(column)\n",
    "\n",
    "print(\"Kept Columns:\")\n",
    "for column in cleaned_data:\n",
    "    print(column)"
   ]
  },
  {
   "source": [
    "Change pitch_type to a binary classification: 1 for fastball, 0 for not fastball."
   ],
   "cell_type": "markdown",
   "metadata": {}
  },
  {
   "cell_type": "code",
   "execution_count": 57,
   "metadata": {},
   "outputs": [
    {
     "output_type": "stream",
     "name": "stdout",
     "text": [
      "Unique pitch types: [nan 'SL' 'FA' 'CH' 'CU' 'FC' 'SI' 'PO' 'FF' 'IN']\nPercent of pitches that are fastballs: 10.635575145741505\n"
     ]
    }
   ],
   "source": [
    "change_pitches = True\n",
    "\n",
    "print(\"Unique pitch types:\", cleaned_data['pitch_type'].unique())\n",
    "\n",
    "fastball_types = [\n",
    "    'FF', # Four-seam Fastball\n",
    "    'FA', # Four-seam Fastball\n",
    "    'FT', # Two-seam Fastball / Sinker\n",
    "    'SI'  # Two-seam Fastball / Sinker\n",
    "]\n",
    "\n",
    "if change_pitches:\n",
    "    cleaned_data['pitch_type'] = cleaned_data['pitch_type'].map(lambda pt: 1 if pt in fastball_types else 0)\n",
    "\n",
    "pct_fastball = cleaned_data['pitch_type'].sum() / len(cleaned_data['pitch_type'])\n",
    "print('Percent of pitches that are fastballs:', pct_fastball * 100)"
   ]
  },
  {
   "cell_type": "markdown",
   "id": "consolidated-kennedy",
   "metadata": {},
   "source": [
    "Change some of the kept data to one-hot format:"
   ]
  },
  {
   "cell_type": "code",
   "execution_count": 58,
   "id": "previous-falls",
   "metadata": {
    "scrolled": true
   },
   "outputs": [],
   "source": [
    "change_to_oh = [\n",
    "    'stand',\n",
    "    'prev_type',\n",
    "    # 'prev_bb_type',\n",
    "]"
   ]
  },
  {
   "cell_type": "code",
   "execution_count": 59,
   "id": "accredited-deviation",
   "metadata": {
    "scrolled": false
   },
   "outputs": [
    {
     "output_type": "stream",
     "name": "stdout",
     "text": [
      "       pitch_type  balls  strikes  outs_when_up  inning  game_pk  bat_score  \\\n14352           0      1        1             1       2      112          0   \n14353           0      0        1             1       2      112          0   \n14354           0      0        0             1       2      112          0   \n14355           0      0        1             1       2      112          0   \n14356           0      0        0             1       2      112          0   \n...           ...    ...      ...           ...     ...      ...        ...   \n15550           1      1        0             1       5   243837          3   \n15551           1      0        0             1       5   243837          3   \n15552           1      0        0             0       5   243837          3   \n15553           0      0        1             0       5   243837          3   \n15554           1      0        0             0       5   243837          3   \n\n       fld_score  on_base  prev_plate_x  prev_plate_z  stand_R  prev_type_B  \\\n14352          0        2           NaN           NaN        0            1   \n14353          0        2           NaN           NaN        0            0   \n14354          0        2           NaN           NaN        0            1   \n14355          0        1           NaN           NaN        1            0   \n14356          0        1           NaN           NaN        1            0   \n...          ...      ...           ...           ...      ...          ...   \n15550          0        1          0.97          2.66        0            0   \n15551          0        1         -0.19          1.85        0            0   \n15552          0        1         -0.29          1.32        0            1   \n15553          0        0         -0.09          2.59        1            0   \n15554          0        0         -0.07          2.24        1            0   \n\n       prev_type_S  prev_type_X  \n14352            0            0  \n14353            1            0  \n14354            0            0  \n14355            1            0  \n14356            0            1  \n...            ...          ...  \n15550            1            0  \n15551            0            1  \n15552            0            0  \n15553            0            1  \n15554            0            1  \n\n[14066 rows x 15 columns]\n"
     ]
    }
   ],
   "source": [
    "if change_str_to_onehot:\n",
    "    for oh_column in change_to_oh:\n",
    "        drop_first = (oh_column == 'stand')\n",
    "        dummies = pd.get_dummies(cleaned_data[oh_column], drop_first=drop_first, prefix=oh_column)\n",
    "        cleaned_data = pd.concat([cleaned_data, dummies], axis=1)\n",
    "        cleaned_data.pop(oh_column)\n",
    "\n",
    "print(cleaned_data)"
   ]
  },
  {
   "source": [
    "Change field score and batting score to score differential. Positive differential means the field team (pitching team) is ahead, negative means behind."
   ],
   "cell_type": "markdown",
   "metadata": {}
  },
  {
   "cell_type": "code",
   "execution_count": 60,
   "metadata": {},
   "outputs": [
    {
     "output_type": "stream",
     "name": "stdout",
     "text": [
      "14352    0\n14353    0\n14354    0\n14355    0\n14356    0\n        ..\n15550   -3\n15551   -3\n15552   -3\n15553   -3\n15554   -3\nName: score_diff, Length: 14066, dtype: int64\n"
     ]
    }
   ],
   "source": [
    "fld_score = 'fld_score'\n",
    "bat_score = 'bat_score'\n",
    "\n",
    "cleaned_data['score_diff'] = cleaned_data[fld_score] - cleaned_data[bat_score]\n",
    "\n",
    "cleaned_data.pop(fld_score)\n",
    "cleaned_data.pop(bat_score)\n",
    "\n",
    "print(cleaned_data['score_diff'])"
   ]
  },
  {
   "source": [
    "Inspect the fully cleaned data:\n",
    "\n",
    "- Balls: the number of balls "
   ],
   "cell_type": "markdown",
   "metadata": {}
  },
  {
   "cell_type": "code",
   "execution_count": 61,
   "metadata": {},
   "outputs": [
    {
     "output_type": "stream",
     "name": "stdout",
     "text": [
      "       pitch_type  balls  strikes  outs_when_up  inning  game_pk  on_base  \\\n14352           0      1        1             1       2      112        2   \n14353           0      0        1             1       2      112        2   \n14354           0      0        0             1       2      112        2   \n14355           0      0        1             1       2      112        1   \n14356           0      0        0             1       2      112        1   \n...           ...    ...      ...           ...     ...      ...      ...   \n15550           1      1        0             1       5   243837        1   \n15551           1      0        0             1       5   243837        1   \n15552           1      0        0             0       5   243837        1   \n15553           0      0        1             0       5   243837        0   \n15554           1      0        0             0       5   243837        0   \n\n       prev_plate_x  prev_plate_z  stand_R  prev_type_B  prev_type_S  \\\n14352           NaN           NaN        0            1            0   \n14353           NaN           NaN        0            0            1   \n14354           NaN           NaN        0            1            0   \n14355           NaN           NaN        1            0            1   \n14356           NaN           NaN        1            0            0   \n...             ...           ...      ...          ...          ...   \n15550          0.97          2.66        0            0            1   \n15551         -0.19          1.85        0            0            0   \n15552         -0.29          1.32        0            1            0   \n15553         -0.09          2.59        1            0            0   \n15554         -0.07          2.24        1            0            0   \n\n       prev_type_X  score_diff  \n14352            0           0  \n14353            0           0  \n14354            0           0  \n14355            0           0  \n14356            1           0  \n...            ...         ...  \n15550            0          -3  \n15551            1          -3  \n15552            0          -3  \n15553            1          -3  \n15554            1          -3  \n\n[14066 rows x 14 columns]\n"
     ]
    }
   ],
   "source": [
    "print(cleaned_data)"
   ]
  },
  {
   "cell_type": "markdown",
   "id": "reverse-teacher",
   "metadata": {},
   "source": [
    "Save the data:"
   ]
  },
  {
   "cell_type": "code",
   "execution_count": 62,
   "id": "lucky-nevada",
   "metadata": {
    "scrolled": true
   },
   "outputs": [],
   "source": [
    "cleaned_data.to_csv('./cleaned_data/' + player + '.csv')"
   ]
  },
  {
   "cell_type": "markdown",
   "id": "armed-cursor",
   "metadata": {},
   "source": [
    "Remove remaining NaNs and write data to `.npy` files"
   ]
  },
  {
   "cell_type": "code",
   "execution_count": 63,
   "metadata": {},
   "outputs": [],
   "source": [
    "import os, re, os.path\n",
    "\n",
    "playerPath = 'cleaned_data/' + player\n",
    "dataPath = playerPath + '/data'\n",
    "labelsPath = playerPath + '/labels'\n",
    "\n",
    "def deleteAllFilesInFolder(mypath):\n",
    "    for root, dirs, files in os.walk(mypath):\n",
    "        for file in files:\n",
    "            os.remove(os.path.join(root, file))\n",
    "\n",
    "deleteAllFilesInFolder(dataPath)\n",
    "deleteAllFilesInFolder(labelsPath)\n",
    "deleteAllFilesInFolder(playerPath)"
   ]
  },
  {
   "cell_type": "code",
   "execution_count": 64,
   "id": "boolean-revolution",
   "metadata": {
    "scrolled": false
   },
   "outputs": [],
   "source": [
    "cleaned_data.dropna(axis=0, how='any', thresh=None, subset=None, inplace=True)\n",
    "\n",
    "#########################################\n",
    "# Write data separated by inning for LSTM\n",
    "#########################################\n",
    "\n",
    "inning_data = cleaned_data.copy(deep=True)\n",
    "\n",
    "groups = inning_data.groupby(['game_pk', 'inning'])\n",
    "\n",
    "inning_dfs = []\n",
    "for _, g in groups:\n",
    "    inning_dfs.append(g)\n",
    "\n",
    "def writeFiles(inning_df):\n",
    "    game = inning_df.iloc[0]['game_pk']\n",
    "    inning = inning_df.iloc[0]['inning']\n",
    "    labels = inning_df.pop('pitch_type').astype('category').cat.codes\n",
    "    np.save('./cleaned_data/' + player + '/labels/' + player + '_' + str(int(game)) + '_' + str(int(inning)) + '.npy', labels)\n",
    "    np.save('./cleaned_data/' + player + '/data/' + player + '_' + str(int(game)) + '_' + str(int(inning)) + '.npy', inning_df)\n",
    "\n",
    "for inning_df in inning_dfs:\n",
    "    writeFiles(inning_df)\n",
    "\n",
    "#####################################\n",
    "# Write all data at once, unseparated\n",
    "#####################################\n",
    "\n",
    "l = cleaned_data.pop('pitch_type').astype('category')\n",
    "labels = l.cat.codes\n",
    "np.save('./cleaned_data/' + player + '/labels.npy', labels)\n",
    "np.save('./cleaned_data/' + player + '/data.npy', cleaned_data)"
   ]
  },
  {
   "cell_type": "code",
   "execution_count": 65,
   "id": "scheduled-gabriel",
   "metadata": {
    "scrolled": true
   },
   "outputs": [],
   "source": [
    "# print(l.cat)\n",
    "# print(labels.value_counts())"
   ]
  },
  {
   "cell_type": "code",
   "execution_count": null,
   "metadata": {},
   "outputs": [],
   "source": []
  }
 ],
 "metadata": {
  "kernelspec": {
   "name": "python394jvsc74a57bd0ac59ebe37160ed0dfa835113d9b8498d9f09ceb179beaac4002f036b9467c963",
   "display_name": "Python 3.9.4 64-bit"
  },
  "language_info": {
   "codemirror_mode": {
    "name": "ipython",
    "version": 3
   },
   "file_extension": ".py",
   "mimetype": "text/x-python",
   "name": "python",
   "nbconvert_exporter": "python",
   "pygments_lexer": "ipython3",
   "version": "3.9.4"
  },
  "metadata": {
   "interpreter": {
    "hash": "ac59ebe37160ed0dfa835113d9b8498d9f09ceb179beaac4002f036b9467c963"
   }
  }
 },
 "nbformat": 4,
 "nbformat_minor": 5
}