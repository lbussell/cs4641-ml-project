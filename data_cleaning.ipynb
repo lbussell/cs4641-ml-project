{
 "cells": [
  {
   "cell_type": "markdown",
   "metadata": {},
   "source": [
    "# Cleaning Data"
   ]
  },
  {
   "cell_type": "code",
   "execution_count": 8,
   "metadata": {},
   "outputs": [],
   "source": [
    "import pandas as pd\n",
    "import numpy as np"
   ]
  },
  {
   "cell_type": "code",
   "execution_count": null,
   "metadata": {},
   "outputs": [],
   "source": []
  },
  {
   "cell_type": "markdown",
   "metadata": {},
   "source": [
    "Load Dataset"
   ]
  },
  {
   "cell_type": "code",
   "execution_count": 9,
   "metadata": {
    "scrolled": true
   },
   "outputs": [
    {
     "name": "stdout",
     "output_type": "stream",
     "text": [
      "       Unnamed: 0 pitch_type   game_date  release_speed  release_pos_x  \\\n",
      "0               0         KC  2018-10-14           80.6          -2.04   \n",
      "1               1         SL  2018-10-14           88.0          -2.01   \n",
      "2               2         CH  2018-10-14           86.1          -2.23   \n",
      "3               3         CH  2018-10-14           87.5          -2.14   \n",
      "4               4         KC  2018-10-14           80.5          -2.04   \n",
      "...           ...        ...         ...            ...            ...   \n",
      "21489        5407         SL  2019-03-29           89.8          -2.35   \n",
      "21490        5408         FF  2019-03-29           96.3          -2.16   \n",
      "21491        5409         SL  2019-03-29           88.5          -2.34   \n",
      "21492        5410         FT  2019-03-29           96.7          -2.34   \n",
      "21493        5411         FF  2019-03-29           96.2          -2.24   \n",
      "\n",
      "       release_pos_z   player_name  batter  pitcher     events  ... fld_score  \\\n",
      "0               5.61  Cole, Gerrit  543877   543037  field_out  ...         4   \n",
      "1               5.74  Cole, Gerrit  543877   543037        NaN  ...         4   \n",
      "2               5.45  Cole, Gerrit  598265   543037  field_out  ...         4   \n",
      "3               5.37  Cole, Gerrit  598265   543037        NaN  ...         4   \n",
      "4               5.63  Cole, Gerrit  598265   543037        NaN  ...         4   \n",
      "...              ...           ...     ...      ...        ...  ...       ...   \n",
      "21489           5.95  Cole, Gerrit  640457   543037        NaN  ...         0   \n",
      "21490           5.89  Cole, Gerrit  640457   543037        NaN  ...         0   \n",
      "21491           5.96  Cole, Gerrit  640457   543037        NaN  ...         0   \n",
      "21492           5.77  Cole, Gerrit  640457   543037        NaN  ...         0   \n",
      "21493           5.93  Cole, Gerrit  640457   543037        NaN  ...         0   \n",
      "\n",
      "       post_away_score  post_home_score  post_bat_score  post_fld_score  \\\n",
      "0                    4                5               5               4   \n",
      "1                    4                5               5               4   \n",
      "2                    4                5               5               4   \n",
      "3                    4                5               5               4   \n",
      "4                    4                5               5               4   \n",
      "...                ...              ...             ...             ...   \n",
      "21489                0                0               0               0   \n",
      "21490                0                0               0               0   \n",
      "21491                0                0               0               0   \n",
      "21492                0                0               0               0   \n",
      "21493                0                0               0               0   \n",
      "\n",
      "       if_fielding_alignment of_fielding_alignment spin_axis  \\\n",
      "0                   Standard             Strategic      27.0   \n",
      "1                   Standard             Strategic     133.0   \n",
      "2              Infield shift              Standard     220.0   \n",
      "3              Infield shift              Standard     229.0   \n",
      "4              Infield shift              Standard      33.0   \n",
      "...                      ...                   ...       ...   \n",
      "21489          Infield shift              Standard     158.0   \n",
      "21490          Infield shift              Standard     209.0   \n",
      "21491          Infield shift              Standard     174.0   \n",
      "21492          Infield shift              Standard     225.0   \n",
      "21493          Infield shift              Standard     208.0   \n",
      "\n",
      "      delta_home_win_exp delta_run_exp  \n",
      "0                 -0.010        -0.084  \n",
      "1                  0.000        -0.016  \n",
      "2                 -0.015        -0.160  \n",
      "3                  0.000        -0.034  \n",
      "4                  0.000         0.027  \n",
      "...                  ...           ...  \n",
      "21489              0.000         0.000  \n",
      "21490              0.000        -0.073  \n",
      "21491              0.000         0.054  \n",
      "21492              0.000         0.027  \n",
      "21493              0.000        -0.039  \n",
      "\n",
      "[21494 rows x 93 columns]\n"
     ]
    },
    {
     "name": "stderr",
     "output_type": "stream",
     "text": [
      "/Users/jackmaginnes/opt/anaconda3/lib/python3.8/site-packages/IPython/core/interactiveshell.py:3071: DtypeWarning: Columns (44) have mixed types.Specify dtype option on import or set low_memory=False.\n",
      "  has_raised = await self.run_ast_nodes(code_ast.body, cell_name,\n"
     ]
    }
   ],
   "source": [
    "player = 'cole'\n",
    "data = pd.read_csv('./data/' + player + '.csv')\n",
    "print(data)"
   ]
  },
  {
   "cell_type": "markdown",
   "metadata": {},
   "source": [
    "Simplify the batters on base columns:"
   ]
  },
  {
   "cell_type": "code",
   "execution_count": 3,
   "metadata": {
    "scrolled": true
   },
   "outputs": [],
   "source": [
    "data['on_base'] = np.sum([\n",
    "    pd.notnull(data['on_1b']),\n",
    "    pd.notnull(data['on_2b']),\n",
    "    pd.notnull(data['on_3b'])\n",
    "], axis=0)\n",
    "\n"
   ]
  },
  {
   "cell_type": "code",
   "execution_count": 4,
   "metadata": {},
   "outputs": [
    {
     "name": "stdout",
     "output_type": "stream",
     "text": [
      "       Unnamed: 0 pitch_type   game_date  release_speed  release_pos_x  \\\n",
      "16064       16064         FF  2013-06-11           97.7          -2.36   \n",
      "16065       16065         FF  2013-06-11           99.6          -2.29   \n",
      "16066       16066         SI  2013-06-11           97.4          -2.30   \n",
      "16067       16067         FF  2013-06-11           97.9          -2.24   \n",
      "16068       16068         FF  2013-06-11           98.7          -2.23   \n",
      "16069       16069         FF  2013-06-11           97.4          -2.51   \n",
      "16070       16070         SL  2013-06-11           86.0          -2.53   \n",
      "16071       16071         SI  2013-06-11           97.6          -2.56   \n",
      "16072       16072         FF  2013-06-11           97.2          -2.36   \n",
      "16073       16073         CH  2013-06-11           87.5          -2.47   \n",
      "16074       16074         FF  2013-06-11           96.4          -2.23   \n",
      "16075       16075         FF  2013-06-11           96.5          -2.30   \n",
      "16076       16076         FF  2013-06-11           96.9          -2.48   \n",
      "16077       16077         SI  2013-06-11           96.9          -2.34   \n",
      "16078       16078         SI  2013-06-11           96.2          -2.54   \n",
      "16079       16079         FF  2013-06-11          100.1          -2.43   \n",
      "16080       16080         FF  2013-06-11           97.2          -2.35   \n",
      "16081       16081         FF  2013-06-11           96.8          -2.55   \n",
      "\n",
      "       release_pos_z   player_name  batter  pitcher     events  ... spin_axis  \\\n",
      "16064           5.61  Cole, Gerrit  474832   543037  field_out  ...       NaN   \n",
      "16065           5.71  Cole, Gerrit  474832   543037        NaN  ...       NaN   \n",
      "16066           5.68  Cole, Gerrit  474832   543037        NaN  ...       NaN   \n",
      "16067           5.56  Cole, Gerrit  474832   543037        NaN  ...       NaN   \n",
      "16068           5.52  Cole, Gerrit  474832   543037        NaN  ...       NaN   \n",
      "16069           5.53  Cole, Gerrit  452254   543037     single  ...       NaN   \n",
      "16070           5.54  Cole, Gerrit  452254   543037        NaN  ...       NaN   \n",
      "16071           5.46  Cole, Gerrit  452254   543037        NaN  ...       NaN   \n",
      "16072           5.70  Cole, Gerrit  452254   543037        NaN  ...       NaN   \n",
      "16073           5.55  Cole, Gerrit  457763   543037  field_out  ...       NaN   \n",
      "16074           5.64  Cole, Gerrit  457763   543037        NaN  ...       NaN   \n",
      "16075           5.56  Cole, Gerrit  457763   543037        NaN  ...       NaN   \n",
      "16076           5.43  Cole, Gerrit  340192   543037     single  ...       NaN   \n",
      "16077           5.38  Cole, Gerrit  340192   543037        NaN  ...       NaN   \n",
      "16078           5.68  Cole, Gerrit  340192   543037        NaN  ...       NaN   \n",
      "16079           5.58  Cole, Gerrit  453923   543037  strikeout  ...       NaN   \n",
      "16080           5.61  Cole, Gerrit  453923   543037        NaN  ...       NaN   \n",
      "16081           5.46  Cole, Gerrit  453923   543037        NaN  ...       NaN   \n",
      "\n",
      "       delta_home_win_exp  delta_run_exp  on_base  prev_events  prev_zone  \\\n",
      "16064               0.042         -0.352        2          NaN        NaN   \n",
      "16065               0.000          0.050        2    field_out        6.0   \n",
      "16066               0.000         -0.092        2          NaN       12.0   \n",
      "16067               0.000          0.044        2          NaN        5.0   \n",
      "16068               0.000         -0.061        2          NaN       14.0   \n",
      "16069              -0.020          0.348        1          NaN       14.0   \n",
      "16070               0.000          0.027        1       single        5.0   \n",
      "16071               0.000         -0.057        1          NaN       14.0   \n",
      "16072               0.000         -0.037        1          NaN        7.0   \n",
      "16073               0.028         -0.182        1          NaN        6.0   \n",
      "16074               0.000         -0.056        1    field_out        4.0   \n",
      "16075               0.000         -0.043        1          NaN        8.0   \n",
      "16076              -0.025          0.252        0          NaN       14.0   \n",
      "16077               0.000         -0.029        0       single        4.0   \n",
      "16078               0.000          0.023        0          NaN        9.0   \n",
      "16079               0.022         -0.141        0          NaN       11.0   \n",
      "16080               0.000         -0.046        0    strikeout        5.0   \n",
      "16081               0.000         -0.033        0          NaN        2.0   \n",
      "\n",
      "      prev_type prev_bb_type prev_plate_x prev_plate_z  \n",
      "16064       NaN          NaN          NaN          NaN  \n",
      "16065         X        popup         0.71         2.55  \n",
      "16066         B          NaN         0.49         3.54  \n",
      "16067         S          NaN        -0.12         2.83  \n",
      "16068         B          NaN         1.24         2.01  \n",
      "16069         S          NaN         0.84         1.53  \n",
      "16070         X  ground_ball        -0.25         2.40  \n",
      "16071         B          NaN         1.60         1.29  \n",
      "16072         S          NaN        -0.61         1.76  \n",
      "16073         S          NaN         0.48         2.58  \n",
      "16074         X     fly_ball        -0.76         2.12  \n",
      "16075         S          NaN         0.26         2.25  \n",
      "16076         S          NaN         0.31         1.53  \n",
      "16077         X   line_drive        -0.34         2.09  \n",
      "16078         S          NaN         0.67         1.63  \n",
      "16079         B          NaN        -1.16         3.54  \n",
      "16080         S          NaN         0.12         2.49  \n",
      "16081         S          NaN         0.23         2.99  \n",
      "\n",
      "[18 rows x 100 columns]\n"
     ]
    }
   ],
   "source": [
    "to_shift_down = [\n",
    "    'events',\n",
    "    'zone',\n",
    "    'type',\n",
    "    'bb_type',\n",
    "    'plate_x',\n",
    "    'plate_z'\n",
    "]\n",
    "\n",
    "groups = data.groupby(['game_pk', 'inning'])\n",
    "\n",
    "list_of_dfs = []\n",
    "for _, g in groups:\n",
    "    list_of_dfs.append(g)\n",
    "\n",
    "\n",
    "for i, df in enumerate(list_of_dfs):\n",
    "    for column in df:\n",
    "        if column in to_shift_down:\n",
    "            df[\"prev_\" + column] = df[column].shift(periods=1)\n",
    "    list_of_dfs[i] = df\n",
    "print(list_of_dfs[0])\n",
    "            \n",
    "    \n",
    "            \n",
    "cleaned_data = pd.concat(list_of_dfs, axis=0, sort=False)\n",
    "    \n",
    "# size = len(data[column])\n",
    "# print(size)\n",
    "\n",
    "# for column in data:\n",
    "#     if column in to_shift_down:\n",
    "#         data[column].shift(1)\n",
    "                \n",
    "# for column in data:\n",
    "#     if column in to_shift_down:\n",
    "#         for i, row in enumerate(data[column]):\n",
    "#             if i != 0 and i < size - 2:\n",
    "#                 if (data['game_pk'][i] != data['game_pk'][i-1]) or (data['inning'][i] != data['inning'][i-1]):\n",
    "#                     data.loc[column, i] = np.NaN"
   ]
  },
  {
   "cell_type": "markdown",
   "metadata": {},
   "source": [
    "Now, we explicitly list the columns that we want to keep:"
   ]
  },
  {
   "cell_type": "code",
   "execution_count": 5,
   "metadata": {},
   "outputs": [],
   "source": [
    "keep_columns = [\n",
    "    'pitch_type',\n",
    "    'game_date',\n",
    "    'release_speed',\n",
    "    'batter',\n",
    "    'stand',\n",
    "    'balls',\n",
    "    'strikes',\n",
    "    'plate_x',\n",
    "    'plate_y',\n",
    "    'plate_z',\n",
    "    'outs_when_up',\n",
    "    'inning',\n",
    "    'game_pk',\n",
    "    'pitch_num',\n",
    "    'bat_score',\n",
    "    'fld_score',\n",
    "    'on_base',\n",
    "    'prev_events',\n",
    "    'prev_zone',\n",
    "    'prev_type',\n",
    "    'prev_bb_type',\n",
    "    'prev_plate_x',\n",
    "    'prev_plate_z'\n",
    "]"
   ]
  },
  {
   "cell_type": "markdown",
   "metadata": {},
   "source": [
    "Delete the unnecessary columns:"
   ]
  },
  {
   "cell_type": "code",
   "execution_count": 6,
   "metadata": {
    "scrolled": true
   },
   "outputs": [
    {
     "name": "stdout",
     "output_type": "stream",
     "text": [
      "Kept Columns:\n",
      "Unnamed: 0\n",
      "pitch_type\n",
      "game_date\n",
      "release_speed\n",
      "release_pos_x\n",
      "release_pos_z\n",
      "player_name\n",
      "batter\n",
      "pitcher\n",
      "events\n",
      "description\n",
      "spin_dir\n",
      "spin_rate_deprecated\n",
      "break_angle_deprecated\n",
      "break_length_deprecated\n",
      "zone\n",
      "des\n",
      "game_type\n",
      "stand\n",
      "p_throws\n",
      "home_team\n",
      "away_team\n",
      "type\n",
      "hit_location\n",
      "bb_type\n",
      "balls\n",
      "strikes\n",
      "game_year\n",
      "pfx_x\n",
      "pfx_z\n",
      "plate_x\n",
      "plate_z\n",
      "on_3b\n",
      "on_2b\n",
      "on_1b\n",
      "outs_when_up\n",
      "inning\n",
      "inning_topbot\n",
      "hc_x\n",
      "hc_y\n",
      "tfs_deprecated\n",
      "tfs_zulu_deprecated\n",
      "fielder_2\n",
      "umpire\n",
      "sv_id\n",
      "vx0\n",
      "vy0\n",
      "vz0\n",
      "ax\n",
      "ay\n",
      "az\n",
      "sz_top\n",
      "sz_bot\n",
      "hit_distance_sc\n",
      "launch_speed\n",
      "launch_angle\n",
      "effective_speed\n",
      "release_spin_rate\n",
      "release_extension\n",
      "game_pk\n",
      "pitcher.1\n",
      "fielder_2.1\n",
      "fielder_3\n",
      "fielder_4\n",
      "fielder_5\n",
      "fielder_6\n",
      "fielder_7\n",
      "fielder_8\n",
      "fielder_9\n",
      "release_pos_y\n",
      "estimated_ba_using_speedangle\n",
      "estimated_woba_using_speedangle\n",
      "woba_value\n",
      "woba_denom\n",
      "babip_value\n",
      "iso_value\n",
      "launch_speed_angle\n",
      "at_bat_number\n",
      "pitch_number\n",
      "pitch_name\n",
      "home_score\n",
      "away_score\n",
      "bat_score\n",
      "fld_score\n",
      "post_away_score\n",
      "post_home_score\n",
      "post_bat_score\n",
      "post_fld_score\n",
      "if_fielding_alignment\n",
      "of_fielding_alignment\n",
      "spin_axis\n",
      "delta_home_win_exp\n",
      "delta_run_exp\n",
      "on_base\n"
     ]
    }
   ],
   "source": [
    "for column in cleaned_data:\n",
    "    if column not in keep_columns:\n",
    "        cleaned_data.pop(column)\n",
    "\n",
    "print(\"Kept Columns:\")\n",
    "for column in data:\n",
    "    print(column)"
   ]
  },
  {
   "cell_type": "markdown",
   "metadata": {},
   "source": [
    "In the data we have, the pitch (label) and the results of the pitch are in the same row. We would like the label to be on the same row as the previous pitch data, so we need to shift some of the columns down one row. "
   ]
  },
  {
   "cell_type": "markdown",
   "metadata": {},
   "source": [
    "Save the data:"
   ]
  },
  {
   "cell_type": "code",
   "execution_count": 7,
   "metadata": {},
   "outputs": [],
   "source": [
    "cleaned_data.to_csv('./cleaned_data/' + player + '.csv')"
   ]
  },
  {
   "cell_type": "code",
   "execution_count": null,
   "metadata": {},
   "outputs": [],
   "source": []
  }
 ],
 "metadata": {
  "kernelspec": {
   "display_name": "Python 3",
   "language": "python",
   "name": "python3"
  },
  "language_info": {
   "codemirror_mode": {
    "name": "ipython",
    "version": 3
   },
   "file_extension": ".py",
   "mimetype": "text/x-python",
   "name": "python",
   "nbconvert_exporter": "python",
   "pygments_lexer": "ipython3",
   "version": "3.8.3"
  }
 },
 "nbformat": 4,
 "nbformat_minor": 5
}
